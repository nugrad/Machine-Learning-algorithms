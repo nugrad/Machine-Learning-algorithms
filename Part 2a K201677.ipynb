{
 "cells": [
  {
   "cell_type": "markdown",
   "metadata": {},
   "source": [
    "## Part(2a) K201677"
   ]
  },
  {
   "cell_type": "markdown",
   "metadata": {},
   "source": [
    " implement a user-based Collaborative Filtering \n",
    "  Recommender System that takes a movie name as input and recommends top-5 movies to the\n",
    "current user. Use Cosine Similarity for finding neighborhoods and mean-centered prediction\n",
    "function"
   ]
  },
  {
   "cell_type": "code",
   "execution_count": 9,
   "metadata": {},
   "outputs": [
    {
     "name": "stdout",
     "output_type": "stream",
     "text": [
      "Top 5 recommended movies for the current user:\n",
      "Top Movies title\n",
      "Shawshank Redemption, The (1994)                         42.256205\n",
      "Pulp Fiction (1994)                                      38.186980\n",
      "Star Wars: Episode IV - A New Hope (1977)                36.457366\n",
      "Star Wars: Episode V - The Empire Strikes Back (1980)    33.842626\n",
      "Forrest Gump (1994)                                      33.832854\n",
      "Name: 1, dtype: float64\n"
     ]
    }
   ],
   "source": [
    "import pandas as pd\n",
    "from sklearn.metrics.pairwise import cosine_similarity\n",
    "\n",
    "movies = pd.read_csv('movies.csv')\n",
    "ratings = pd.read_csv('ratings.csv')\n",
    "\n",
    "merged_data = pd.merge(ratings, movies, on='movieId')\n",
    "\n",
    "pivot_table = pd.pivot_table(merged_data, values='rating', index='userId', columns='title')\n",
    "\n",
    "input_movie = 'Toy Story (1995)'\n",
    "\n",
    "user_similarity = cosine_similarity(pivot_table.fillna(0))\n",
    "input_vector = pivot_table.loc[:, input_movie].fillna(0)\n",
    "\n",
    "user_mean = pivot_table.mean(axis=1)\n",
    "\n",
    "centered_ratings = pivot_table.sub(user_mean, axis=0)\n",
    "weighted_ratings = user_similarity.dot(centered_ratings.fillna(0))\n",
    "\n",
    "predicted_ratings = pd.DataFrame(weighted_ratings, index=pivot_table.index, columns=pivot_table.columns).add(user_mean, axis=0)\n",
    "top_movies = predicted_ratings.loc[1].sort_values(ascending=False).head(5)\n",
    "\n",
    "print(\"Top 5 recommended movies for the current user:\")\n",
    "print(\"Top Movies\",top_movies)"
   ]
  },
  {
   "cell_type": "code",
   "execution_count": null,
   "metadata": {},
   "outputs": [],
   "source": []
  }
 ],
 "metadata": {
  "kernelspec": {
   "display_name": "Python 3",
   "language": "python",
   "name": "python3"
  },
  "language_info": {
   "codemirror_mode": {
    "name": "ipython",
    "version": 3
   },
   "file_extension": ".py",
   "mimetype": "text/x-python",
   "name": "python",
   "nbconvert_exporter": "python",
   "pygments_lexer": "ipython3",
   "version": "3.8.3"
  }
 },
 "nbformat": 4,
 "nbformat_minor": 4
}
