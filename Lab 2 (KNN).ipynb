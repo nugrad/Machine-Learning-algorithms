{
 "cells": [
  {
   "cell_type": "markdown",
   "metadata": {},
   "source": [
    "## Scikit Learn Library"
   ]
  },
  {
   "cell_type": "markdown",
   "metadata": {},
   "source": [
    "Scikit-learn (sklearn) is a library in Python that provides many unsupervised and supervised learning algorithms. It’s built upon some of the technology you might already be familiar with, like NumPy, pandas, and Matplotlib.\n",
    "\n",
    "The functionality that scikit-learn provides include:\n",
    "\n",
    " - Regression, including Linear and Logistic Regression algorithms etc\n",
    " - Classification, including K-Nearest Neighbors algorithms etc\n",
    " - Clustering, including K-Means and K-Means++ etc\n",
    " - Model selection\n",
    " - Preprocessing, including Min-Max Normalization"
   ]
  },
  {
   "cell_type": "markdown",
   "metadata": {},
   "source": [
    "Machine learning has three types :\n",
    " - Supervised machine learning (class/label/target is given)\n",
    " - Un-supervised machine learning (class/label/target is not given)\n",
    " - Reinforcement Learning (reward based)"
   ]
  },
  {
   "cell_type": "markdown",
   "metadata": {},
   "source": [
    "<b>Supervised algorithms:</b>\n",
    "   \n",
    "   - <b>Classification algorithms</b> (like KNN, Decision Tree, Naive Bayes etc)\n",
    "      \n",
    "   - <b>Regression</b> (like linear regression, logistic regression etc)\n",
    "      \n",
    "      <br>\n",
    "      \n",
    "<b>Unsupervised algorithms:</b>\n",
    "   - <b>Clustering Algorithms</b> (like kmeans, kmeans++ etc)"
   ]
  },
  {
   "cell_type": "code",
   "execution_count": null,
   "metadata": {},
   "outputs": [],
   "source": []
  },
  {
   "cell_type": "markdown",
   "metadata": {},
   "source": [
    "# Supervised Learning Algorithms\n",
    "\n",
    "## K-Nearest Neighbor"
   ]
  },
  {
   "cell_type": "code",
   "execution_count": 34,
   "metadata": {},
   "outputs": [],
   "source": [
    "# Load libraries\n",
    "import pandas\n",
    "import numpy as np\n",
    "from sklearn.model_selection import train_test_split,cross_val_score\n",
    "from sklearn.metrics import classification_report\n",
    "from sklearn.metrics import confusion_matrix\n",
    "from sklearn.metrics import accuracy_score\n",
    "from sklearn.neighbors import KNeighborsClassifier"
   ]
  },
  {
   "cell_type": "code",
   "execution_count": 4,
   "metadata": {},
   "outputs": [
    {
     "data": {
      "text/html": [
       "<div>\n",
       "<style scoped>\n",
       "    .dataframe tbody tr th:only-of-type {\n",
       "        vertical-align: middle;\n",
       "    }\n",
       "\n",
       "    .dataframe tbody tr th {\n",
       "        vertical-align: top;\n",
       "    }\n",
       "\n",
       "    .dataframe thead th {\n",
       "        text-align: right;\n",
       "    }\n",
       "</style>\n",
       "<table border=\"1\" class=\"dataframe\">\n",
       "  <thead>\n",
       "    <tr style=\"text-align: right;\">\n",
       "      <th></th>\n",
       "      <th>sepal-length</th>\n",
       "      <th>sepal-width</th>\n",
       "      <th>petal-length</th>\n",
       "      <th>petal-width</th>\n",
       "      <th>class</th>\n",
       "    </tr>\n",
       "  </thead>\n",
       "  <tbody>\n",
       "    <tr>\n",
       "      <th>0</th>\n",
       "      <td>5.1</td>\n",
       "      <td>3.5</td>\n",
       "      <td>1.4</td>\n",
       "      <td>0.2</td>\n",
       "      <td>Iris-setosa</td>\n",
       "    </tr>\n",
       "    <tr>\n",
       "      <th>1</th>\n",
       "      <td>4.9</td>\n",
       "      <td>3.0</td>\n",
       "      <td>1.4</td>\n",
       "      <td>0.2</td>\n",
       "      <td>Iris-setosa</td>\n",
       "    </tr>\n",
       "    <tr>\n",
       "      <th>2</th>\n",
       "      <td>4.7</td>\n",
       "      <td>3.2</td>\n",
       "      <td>1.3</td>\n",
       "      <td>0.2</td>\n",
       "      <td>Iris-setosa</td>\n",
       "    </tr>\n",
       "    <tr>\n",
       "      <th>3</th>\n",
       "      <td>4.6</td>\n",
       "      <td>3.1</td>\n",
       "      <td>1.5</td>\n",
       "      <td>0.2</td>\n",
       "      <td>Iris-setosa</td>\n",
       "    </tr>\n",
       "    <tr>\n",
       "      <th>4</th>\n",
       "      <td>5.0</td>\n",
       "      <td>3.6</td>\n",
       "      <td>1.4</td>\n",
       "      <td>0.2</td>\n",
       "      <td>Iris-setosa</td>\n",
       "    </tr>\n",
       "    <tr>\n",
       "      <th>...</th>\n",
       "      <td>...</td>\n",
       "      <td>...</td>\n",
       "      <td>...</td>\n",
       "      <td>...</td>\n",
       "      <td>...</td>\n",
       "    </tr>\n",
       "    <tr>\n",
       "      <th>145</th>\n",
       "      <td>6.7</td>\n",
       "      <td>3.0</td>\n",
       "      <td>5.2</td>\n",
       "      <td>2.3</td>\n",
       "      <td>Iris-virginica</td>\n",
       "    </tr>\n",
       "    <tr>\n",
       "      <th>146</th>\n",
       "      <td>6.3</td>\n",
       "      <td>2.5</td>\n",
       "      <td>5.0</td>\n",
       "      <td>1.9</td>\n",
       "      <td>Iris-virginica</td>\n",
       "    </tr>\n",
       "    <tr>\n",
       "      <th>147</th>\n",
       "      <td>6.5</td>\n",
       "      <td>3.0</td>\n",
       "      <td>5.2</td>\n",
       "      <td>2.0</td>\n",
       "      <td>Iris-virginica</td>\n",
       "    </tr>\n",
       "    <tr>\n",
       "      <th>148</th>\n",
       "      <td>6.2</td>\n",
       "      <td>3.4</td>\n",
       "      <td>5.4</td>\n",
       "      <td>2.3</td>\n",
       "      <td>Iris-virginica</td>\n",
       "    </tr>\n",
       "    <tr>\n",
       "      <th>149</th>\n",
       "      <td>5.9</td>\n",
       "      <td>3.0</td>\n",
       "      <td>5.1</td>\n",
       "      <td>1.8</td>\n",
       "      <td>Iris-virginica</td>\n",
       "    </tr>\n",
       "  </tbody>\n",
       "</table>\n",
       "<p>150 rows × 5 columns</p>\n",
       "</div>"
      ],
      "text/plain": [
       "     sepal-length  sepal-width  petal-length  petal-width           class\n",
       "0             5.1          3.5           1.4          0.2     Iris-setosa\n",
       "1             4.9          3.0           1.4          0.2     Iris-setosa\n",
       "2             4.7          3.2           1.3          0.2     Iris-setosa\n",
       "3             4.6          3.1           1.5          0.2     Iris-setosa\n",
       "4             5.0          3.6           1.4          0.2     Iris-setosa\n",
       "..            ...          ...           ...          ...             ...\n",
       "145           6.7          3.0           5.2          2.3  Iris-virginica\n",
       "146           6.3          2.5           5.0          1.9  Iris-virginica\n",
       "147           6.5          3.0           5.2          2.0  Iris-virginica\n",
       "148           6.2          3.4           5.4          2.3  Iris-virginica\n",
       "149           5.9          3.0           5.1          1.8  Iris-virginica\n",
       "\n",
       "[150 rows x 5 columns]"
      ]
     },
     "execution_count": 4,
     "metadata": {},
     "output_type": "execute_result"
    }
   ],
   "source": [
    "# Lets apply K-Nearest Neighbour Algorithm on Iris Flower dataset\n",
    "# Iris flower dataset has four attributes (first four columns) based on which it tells which type of flower it is out of total 3 types\n",
    "\n",
    "names = ['sepal-length', 'sepal-width', 'petal-length', 'petal-width', 'class']\n",
    "dataset = pandas.read_csv(r\"C:\\Users\\sohai\\Desktop\\iris.data\", names=names)\n",
    "\n",
    "dataset"
   ]
  },
  {
   "cell_type": "code",
   "execution_count": 11,
   "metadata": {},
   "outputs": [
    {
     "data": {
      "text/plain": [
       "(150, 5)"
      ]
     },
     "execution_count": 11,
     "metadata": {},
     "output_type": "execute_result"
    }
   ],
   "source": [
    "dataset.shape"
   ]
  },
  {
   "cell_type": "code",
   "execution_count": 12,
   "metadata": {},
   "outputs": [
    {
     "data": {
      "text/plain": [
       "class\n",
       "Iris-setosa        50\n",
       "Iris-versicolor    50\n",
       "Iris-virginica     50\n",
       "dtype: int64"
      ]
     },
     "execution_count": 12,
     "metadata": {},
     "output_type": "execute_result"
    }
   ],
   "source": [
    "dataset.groupby('class').size()"
   ]
  },
  {
   "cell_type": "code",
   "execution_count": 15,
   "metadata": {},
   "outputs": [],
   "source": [
    "# In X, we are having first four columns of every row i-e sepal_length, sepal_width, petal_length, petal_width\n",
    "# In Y, we are having 4th column of every row which is basically class/label i-e Iris satosa, Iris verginica or Iris versicolor \n",
    "\n",
    "array = dataset.values\n",
    "X = array[:,0:4]\n",
    "Y = array[:,4]\n",
    "\n"
   ]
  },
  {
   "cell_type": "code",
   "execution_count": 16,
   "metadata": {},
   "outputs": [
    {
     "name": "stdout",
     "output_type": "stream",
     "text": [
      "X_train:  [[6.2 2.8 4.8 1.8]\n",
      " [5.7 2.6 3.5 1.0]\n",
      " [4.6 3.6 1.0 0.2]\n",
      " [6.9 3.1 5.4 2.1]\n",
      " [6.4 2.9 4.3 1.3]\n",
      " [4.8 3.0 1.4 0.3]\n",
      " [5.5 3.5 1.3 0.2]\n",
      " [5.4 3.9 1.7 0.4]\n",
      " [5.1 3.5 1.4 0.3]\n",
      " [7.1 3.0 5.9 2.1]\n",
      " [6.7 3.3 5.7 2.1]\n",
      " [6.8 2.8 4.8 1.4]\n",
      " [6.4 2.8 5.6 2.2]\n",
      " [6.5 3.0 5.5 1.8]\n",
      " [5.7 3.0 4.2 1.2]\n",
      " [5.0 3.3 1.4 0.2]\n",
      " [6.7 3.1 4.4 1.4]\n",
      " [6.0 2.2 4.0 1.0]\n",
      " [6.4 2.7 5.3 1.9]\n",
      " [4.7 3.2 1.6 0.2]\n",
      " [4.6 3.1 1.5 0.2]\n",
      " [5.1 3.4 1.5 0.2]\n",
      " [7.7 3.8 6.7 2.2]\n",
      " [4.3 3.0 1.1 0.1]\n",
      " [6.3 3.3 6.0 2.5]\n",
      " [5.5 2.4 3.7 1.0]\n",
      " [5.0 2.0 3.5 1.0]\n",
      " [6.5 2.8 4.6 1.5]\n",
      " [5.0 3.4 1.6 0.4]\n",
      " [4.4 2.9 1.4 0.2]\n",
      " [5.0 3.5 1.6 0.6]\n",
      " [6.7 3.1 4.7 1.5]\n",
      " [7.3 2.9 6.3 1.8]\n",
      " [5.5 2.6 4.4 1.2]\n",
      " [5.2 2.7 3.9 1.4]\n",
      " [5.7 4.4 1.5 0.4]\n",
      " [7.2 3.2 6.0 1.8]\n",
      " [5.4 3.4 1.7 0.2]\n",
      " [5.8 4.0 1.2 0.2]\n",
      " [6.1 2.6 5.6 1.4]\n",
      " [5.7 2.5 5.0 2.0]\n",
      " [4.8 3.0 1.4 0.1]\n",
      " [6.5 3.0 5.8 2.2]\n",
      " [4.6 3.2 1.4 0.2]\n",
      " [6.6 2.9 4.6 1.3]\n",
      " [6.7 3.0 5.2 2.3]\n",
      " [6.1 3.0 4.6 1.4]\n",
      " [5.7 3.8 1.7 0.3]\n",
      " [7.0 3.2 4.7 1.4]\n",
      " [4.7 3.2 1.3 0.2]\n",
      " [6.5 3.0 5.2 2.0]\n",
      " [7.7 2.6 6.9 2.3]\n",
      " [4.9 2.4 3.3 1.0]\n",
      " [4.8 3.1 1.6 0.2]\n",
      " [5.5 4.2 1.4 0.2]\n",
      " [5.6 3.0 4.1 1.3]\n",
      " [6.4 3.2 5.3 2.3]\n",
      " [5.2 3.5 1.5 0.2]\n",
      " [7.9 3.8 6.4 2.0]\n",
      " [5.8 2.8 5.1 2.4]\n",
      " [5.7 2.9 4.2 1.3]\n",
      " [5.1 3.7 1.5 0.4]\n",
      " [5.1 2.5 3.0 1.1]\n",
      " [5.0 3.4 1.5 0.2]\n",
      " [7.7 2.8 6.7 2.0]\n",
      " [7.6 3.0 6.6 2.1]\n",
      " [5.0 3.2 1.2 0.2]\n",
      " [5.4 3.7 1.5 0.2]\n",
      " [6.7 3.3 5.7 2.5]\n",
      " [6.1 2.8 4.0 1.3]\n",
      " [6.3 2.5 5.0 1.9]\n",
      " [7.4 2.8 6.1 1.9]\n",
      " [5.0 2.3 3.3 1.0]\n",
      " [5.4 3.4 1.5 0.4]\n",
      " [5.4 3.9 1.3 0.4]\n",
      " [5.6 2.8 4.9 2.0]\n",
      " [4.9 3.0 1.4 0.2]\n",
      " [5.3 3.7 1.5 0.2]\n",
      " [6.0 2.7 5.1 1.6]\n",
      " [6.8 3.2 5.9 2.3]\n",
      " [6.2 3.4 5.4 2.3]\n",
      " [5.7 2.8 4.1 1.3]\n",
      " [6.3 2.3 4.4 1.3]\n",
      " [4.9 3.1 1.5 0.1]\n",
      " [6.9 3.1 5.1 2.3]\n",
      " [5.0 3.6 1.4 0.2]\n",
      " [4.4 3.0 1.3 0.2]\n",
      " [6.0 2.9 4.5 1.5]\n",
      " [6.1 2.8 4.7 1.2]\n",
      " [6.4 2.8 5.6 2.1]\n",
      " [4.9 3.1 1.5 0.1]\n",
      " [5.6 2.9 3.6 1.3]\n",
      " [5.9 3.0 4.2 1.5]\n",
      " [6.3 2.7 4.9 1.8]\n",
      " [6.8 3.0 5.5 2.1]\n",
      " [5.5 2.3 4.0 1.3]\n",
      " [6.3 2.8 5.1 1.5]\n",
      " [4.8 3.4 1.9 0.2]\n",
      " [6.3 3.3 4.7 1.6]\n",
      " [5.6 2.5 3.9 1.1]\n",
      " [5.1 3.8 1.9 0.4]\n",
      " [5.1 3.8 1.5 0.3]\n",
      " [4.6 3.4 1.4 0.3]\n",
      " [5.7 2.8 4.5 1.3]\n",
      " [6.6 3.0 4.4 1.4]\n",
      " [5.1 3.5 1.4 0.2]\n",
      " [7.7 3.0 6.1 2.3]\n",
      " [6.1 3.0 4.9 1.8]\n",
      " [6.2 2.2 4.5 1.5]\n",
      " [6.3 3.4 5.6 2.4]\n",
      " [4.4 3.2 1.3 0.2]\n",
      " [6.5 3.2 5.1 2.0]\n",
      " [5.5 2.5 4.0 1.3]\n",
      " [6.3 2.5 4.9 1.5]\n",
      " [5.1 3.3 1.7 0.5]\n",
      " [5.8 2.7 5.1 1.9]\n",
      " [5.8 2.6 4.0 1.2]\n",
      " [6.3 2.9 5.6 1.8]\n",
      " [5.8 2.7 4.1 1.0]\n",
      " [5.0 3.0 1.6 0.2]]\n",
      "Y_train :  ['Iris-virginica' 'Iris-versicolor' 'Iris-setosa' 'Iris-virginica'\n",
      " 'Iris-versicolor' 'Iris-setosa' 'Iris-setosa' 'Iris-setosa' 'Iris-setosa'\n",
      " 'Iris-virginica' 'Iris-virginica' 'Iris-versicolor' 'Iris-virginica'\n",
      " 'Iris-virginica' 'Iris-versicolor' 'Iris-setosa' 'Iris-versicolor'\n",
      " 'Iris-versicolor' 'Iris-virginica' 'Iris-setosa' 'Iris-setosa'\n",
      " 'Iris-setosa' 'Iris-virginica' 'Iris-setosa' 'Iris-virginica'\n",
      " 'Iris-versicolor' 'Iris-versicolor' 'Iris-versicolor' 'Iris-setosa'\n",
      " 'Iris-setosa' 'Iris-setosa' 'Iris-versicolor' 'Iris-virginica'\n",
      " 'Iris-versicolor' 'Iris-versicolor' 'Iris-setosa' 'Iris-virginica'\n",
      " 'Iris-setosa' 'Iris-setosa' 'Iris-virginica' 'Iris-virginica'\n",
      " 'Iris-setosa' 'Iris-virginica' 'Iris-setosa' 'Iris-versicolor'\n",
      " 'Iris-virginica' 'Iris-versicolor' 'Iris-setosa' 'Iris-versicolor'\n",
      " 'Iris-setosa' 'Iris-virginica' 'Iris-virginica' 'Iris-versicolor'\n",
      " 'Iris-setosa' 'Iris-setosa' 'Iris-versicolor' 'Iris-virginica'\n",
      " 'Iris-setosa' 'Iris-virginica' 'Iris-virginica' 'Iris-versicolor'\n",
      " 'Iris-setosa' 'Iris-versicolor' 'Iris-setosa' 'Iris-virginica'\n",
      " 'Iris-virginica' 'Iris-setosa' 'Iris-setosa' 'Iris-virginica'\n",
      " 'Iris-versicolor' 'Iris-virginica' 'Iris-virginica' 'Iris-versicolor'\n",
      " 'Iris-setosa' 'Iris-setosa' 'Iris-virginica' 'Iris-setosa' 'Iris-setosa'\n",
      " 'Iris-versicolor' 'Iris-virginica' 'Iris-virginica' 'Iris-versicolor'\n",
      " 'Iris-versicolor' 'Iris-setosa' 'Iris-virginica' 'Iris-setosa'\n",
      " 'Iris-setosa' 'Iris-versicolor' 'Iris-versicolor' 'Iris-virginica'\n",
      " 'Iris-setosa' 'Iris-versicolor' 'Iris-versicolor' 'Iris-virginica'\n",
      " 'Iris-virginica' 'Iris-versicolor' 'Iris-virginica' 'Iris-setosa'\n",
      " 'Iris-versicolor' 'Iris-versicolor' 'Iris-setosa' 'Iris-setosa'\n",
      " 'Iris-setosa' 'Iris-versicolor' 'Iris-versicolor' 'Iris-setosa'\n",
      " 'Iris-virginica' 'Iris-virginica' 'Iris-versicolor' 'Iris-virginica'\n",
      " 'Iris-setosa' 'Iris-virginica' 'Iris-versicolor' 'Iris-versicolor'\n",
      " 'Iris-setosa' 'Iris-virginica' 'Iris-versicolor' 'Iris-virginica'\n",
      " 'Iris-versicolor' 'Iris-setosa']\n",
      "X_test :  [[5.9 3.0 5.1 1.8]\n",
      " [5.4 3.0 4.5 1.5]\n",
      " [5.0 3.5 1.3 0.3]\n",
      " [5.6 3.0 4.5 1.5]\n",
      " [4.9 2.5 4.5 1.7]\n",
      " [4.5 2.3 1.3 0.3]\n",
      " [6.9 3.1 4.9 1.5]\n",
      " [5.6 2.7 4.2 1.3]\n",
      " [4.8 3.4 1.6 0.2]\n",
      " [6.4 3.2 4.5 1.5]\n",
      " [6.7 3.0 5.0 1.7]\n",
      " [6.0 3.4 4.5 1.6]\n",
      " [5.2 4.1 1.5 0.1]\n",
      " [7.2 3.6 6.1 2.5]\n",
      " [5.2 3.4 1.4 0.2]\n",
      " [5.9 3.2 4.8 1.8]\n",
      " [6.7 2.5 5.8 1.8]\n",
      " [6.4 3.1 5.5 1.8]\n",
      " [5.1 3.8 1.6 0.2]\n",
      " [4.9 3.1 1.5 0.1]\n",
      " [5.8 2.7 3.9 1.2]\n",
      " [6.9 3.2 5.7 2.3]\n",
      " [6.1 2.9 4.7 1.4]\n",
      " [6.0 2.2 5.0 1.5]\n",
      " [7.2 3.0 5.8 1.6]\n",
      " [6.0 3.0 4.8 1.8]\n",
      " [6.2 2.9 4.3 1.3]\n",
      " [5.5 2.4 3.8 1.1]\n",
      " [5.8 2.7 5.1 1.9]\n",
      " [6.7 3.1 5.6 2.4]]\n",
      "Y_test :  ['Iris-virginica' 'Iris-versicolor' 'Iris-setosa' 'Iris-versicolor'\n",
      " 'Iris-virginica' 'Iris-setosa' 'Iris-versicolor' 'Iris-versicolor'\n",
      " 'Iris-setosa' 'Iris-versicolor' 'Iris-versicolor' 'Iris-versicolor'\n",
      " 'Iris-setosa' 'Iris-virginica' 'Iris-setosa' 'Iris-versicolor'\n",
      " 'Iris-virginica' 'Iris-virginica' 'Iris-setosa' 'Iris-setosa'\n",
      " 'Iris-versicolor' 'Iris-virginica' 'Iris-versicolor' 'Iris-virginica'\n",
      " 'Iris-virginica' 'Iris-virginica' 'Iris-versicolor' 'Iris-versicolor'\n",
      " 'Iris-virginica' 'Iris-virginica']\n"
     ]
    }
   ],
   "source": [
    "\n",
    "\n",
    "t_size = 0.20   # training size is 0.2 (20 percent), testing size will be automatically set to 1-0.2 = 0.8 (80 percent) \n",
    "seed = 7        #if this seed is set to any constant number then it will generate same random numbers every time \n",
    "X_train, X_test, Y_train, Y_test = train_test_split(X, Y, test_size=t_size,random_state=seed) #dividing into training and testing\n",
    "\n",
    "\n",
    "#check by printing what data came into these four variables\n",
    "\n",
    "print(\"X_train: \", X_train)\n",
    "print(\"Y_train : \", Y_train)\n",
    "print(\"X_test : \", X_test)\n",
    "print(\"Y_test : \", Y_test)\n",
    " \n",
    "\n"
   ]
  },
  {
   "cell_type": "code",
   "execution_count": 17,
   "metadata": {},
   "outputs": [
    {
     "name": "stdout",
     "output_type": "stream",
     "text": [
      "0.9333333333333333\n"
     ]
    }
   ],
   "source": [
    "\n",
    "knn = KNeighborsClassifier(n_neighbors=2) # two nearest neighbors i-e K=2\n",
    "knn.fit(X_train, Y_train)      # training the model\n",
    "predictions = knn.predict(X_test)  # now testing on test data to get class of test data\n",
    "print((accuracy_score(Y_test, predictions))) # comparing results predicted by model with actual to get accuracy score\n"
   ]
  },
  {
   "cell_type": "code",
   "execution_count": 10,
   "metadata": {},
   "outputs": [
    {
     "name": "stdout",
     "output_type": "stream",
     "text": [
      "                 precision    recall  f1-score   support\n",
      "\n",
      "    Iris-setosa       1.00      1.00      1.00         7\n",
      "Iris-versicolor       0.86      1.00      0.92        12\n",
      " Iris-virginica       1.00      0.82      0.90        11\n",
      "\n",
      "       accuracy                           0.93        30\n",
      "      macro avg       0.95      0.94      0.94        30\n",
      "   weighted avg       0.94      0.93      0.93        30\n",
      "\n",
      "[[ 7  0  0]\n",
      " [ 0 12  0]\n",
      " [ 0  2  9]]\n"
     ]
    }
   ],
   "source": [
    "# evaluation metrics other than accuracy\n",
    "print((classification_report(Y_test, predictions)))   \n",
    "print(confusion_matrix(Y_test, predictions))"
   ]
  },
  {
   "cell_type": "markdown",
   "metadata": {},
   "source": [
    "## KNN using validation technique as \"k-fold cross validation\" instead of \"train-test split\""
   ]
  },
  {
   "cell_type": "code",
   "execution_count": 36,
   "metadata": {},
   "outputs": [
    {
     "name": "stdout",
     "output_type": "stream",
     "text": [
      "0.9800000000000001\n"
     ]
    }
   ],
   "source": [
    "#Suppose we are applying 5-fold cross validation\n",
    "\n",
    "knn = KNeighborsClassifier(n_neighbors=10)\n",
    "accuracy = cross_val_score(knn, X, Y, cv=5)\n",
    "accuracy = np.mean(accuracy)\n",
    "print(accuracy)"
   ]
  },
  {
   "cell_type": "code",
   "execution_count": null,
   "metadata": {},
   "outputs": [],
   "source": []
  },
  {
   "cell_type": "code",
   "execution_count": null,
   "metadata": {},
   "outputs": [],
   "source": []
  },
  {
   "cell_type": "markdown",
   "metadata": {},
   "source": [
    "# Tasks :"
   ]
  },
  {
   "attachments": {
    "image.png": {
     "image/png": "[encoded data removed]"
    }
   },
   "cell_type": "markdown",
   "metadata": {},
   "source": [
    "<b>Q1)</b> Occupancy dataset contains four attributes i-e \"Humidity, Light, CO2 and Humidity ratio\". Apply KNN to find if occupancy is possible or not (0 or 1) based on \"Humidity, Light and Humidity Ratio\" only. Train on \"Occupancy_train.txt\" and Test on \"Occupancy_test.txt\".\n",
    "You need to do the following then :\n",
    "- Run this KNN Algorithm for <b>n_neighbors</b> (K) from 1 to 10. You will get 10 different accuracies. Print all the   accuracies. Then print the highest accuracy and also the value of K at which you got the highest accuracy.\n",
    "- Run this KNN Algorithm for different random seed values from 1 to 10. Print all accuracies and then print the highest\n",
    "\n",
    "<b>Q2)</b> Now instead of using built-in library, write your own code for kNN classifier from scratch. Run on iris dataset. Use 80/20 split. Print accuracy and confusion matrix at the end. You must use the following chi squared distance function :\n",
    "![image.png](attachment:image.png)\n",
    "\n",
    "\n"
   ]
  }
 ],
 "metadata": {
  "kernelspec": {
   "display_name": "Python 3",
   "language": "python",
   "name": "python3"
  },
  "language_info": {
   "codemirror_mode": {
    "name": "ipython",
    "version": 3
   },
   "file_extension": ".py",
   "mimetype": "text/x-python",
   "name": "python",
   "nbconvert_exporter": "python",
   "pygments_lexer": "ipython3",
   "version": "3.8.3"
  }
 },
 "nbformat": 4,
 "nbformat_minor": 4
}
