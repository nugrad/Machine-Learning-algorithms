{
 "cells": [
  {
   "cell_type": "markdown",
   "metadata": {},
   "source": [
    "# Question:01"
   ]
  },
  {
   "cell_type": "code",
   "execution_count": 81,
   "metadata": {},
   "outputs": [],
   "source": [
    "import pandas as pd\n",
    "from sklearn.model_selection import train_test_split\n",
    "from sklearn import linear_model\n",
    "import numpy as np\n",
    "import matplotlib.pyplot as plt"
   ]
  },
  {
   "cell_type": "code",
   "execution_count": 82,
   "metadata": {},
   "outputs": [
    {
     "name": "stdout",
     "output_type": "stream",
     "text": [
      "      TV  Radio  Newspaper  Sales\n",
      "0  230.1   37.8       69.2   22.1\n",
      "1   44.5   39.3       45.1   10.4\n",
      "2   17.2   45.9       69.3    9.3\n",
      "3  151.5   41.3       58.5   18.5\n",
      "4  180.8   10.8       58.4   12.9\n"
     ]
    }
   ],
   "source": [
    "names=['TV','Radio','Newspaper','Sales']\n",
    "df = pd.read_csv(r\"C:\\Users\\User\\OneDrive\\Desktop\\Linear.txt\",names=names)\n",
    "print (df)"
   ]
  },
  {
   "cell_type": "code",
   "execution_count": 83,
   "metadata": {},
   "outputs": [
    {
     "data": {
      "text/plain": [
       "LinearRegression()"
      ]
     },
     "execution_count": 83,
     "metadata": {},
     "output_type": "execute_result"
    }
   ],
   "source": [
    "X = df[['TV', 'Radio','Newspaper']]\n",
    "y = df['Sales']\n",
    "regr = linear_model.LinearRegression()\n",
    "regr.fit(X, y)"
   ]
  },
  {
   "cell_type": "code",
   "execution_count": 84,
   "metadata": {},
   "outputs": [
    {
     "name": "stdout",
     "output_type": "stream",
     "text": [
      "[ 0.07054431  0.23961665 -0.04017846]\n",
      "-0.1419901696398167\n"
     ]
    }
   ],
   "source": [
    "print(regr.coef_) \n",
    "print(regr.intercept_)"
   ]
  },
  {
   "cell_type": "code",
   "execution_count": 85,
   "metadata": {},
   "outputs": [
    {
     "name": "stdout",
     "output_type": "stream",
     "text": [
      "[22.36741529]\n"
     ]
    }
   ],
   "source": [
    "predictedCO2 = regr.predict([[230.1, 37.8, 69.2]])\n",
    "print(predictedCO2)"
   ]
  },
  {
   "cell_type": "markdown",
   "metadata": {},
   "source": [
    "# Question:02"
   ]
  },
  {
   "cell_type": "code",
   "execution_count": 86,
   "metadata": {},
   "outputs": [
    {
     "name": "stdout",
     "output_type": "stream",
     "text": [
      "           Car       Model  Volume  Weight  CO2\n",
      "0       Toyoty        Aygo    1000     790   99\n",
      "1   Mitsubishi  Space Star    1200    1160   95\n",
      "2        Skoda      Citigo    1000     929   95\n",
      "3         Fiat         500     900     865   90\n",
      "4         Mini      Cooper    1500    1140  105\n",
      "5           VW         Up!    1000     929  105\n",
      "6        Skoda       Fabia    1400    1109   90\n",
      "7     Mercedes     A-Class    1500    1365   92\n",
      "8         Ford      Fiesta    1500    1112   98\n",
      "9         Audi          A1    1600    1150   99\n",
      "10     Hyundai         I20    1100     980   99\n",
      "11      Suzuki       Swift    1300     990  101\n",
      "12        Ford      Fiesta    1000    1112   99\n",
      "13       Honda       Civic    1600    1252   94\n",
      "14      Hundai         I30    1600    1326   97\n",
      "15        Opel       Astra    1600    1330   97\n",
      "16         BMW           1    1600    1365   99\n",
      "17       Mazda           3    2200    1280  104\n",
      "18       Skoda       Rapid    1600    1119  104\n",
      "19        Ford       Focus    2000    1328  105\n",
      "20        Ford      Mondeo    1600    1584   94\n",
      "21        Opel    Insignia    2000    1428   99\n",
      "22    Mercedes     C-Class    2100    1365   99\n",
      "23       Skoda     Octavia    1600    1415   99\n",
      "24       Volvo         S60    2000    1415   99\n",
      "25    Mercedes         CLA    1500    1465  102\n",
      "26        Audi          A4    2000    1490  104\n",
      "27        Audi          A6    2000    1725  114\n",
      "28       Volvo         V70    1600    1523  109\n",
      "29         BMW           5    2000    1705  114\n",
      "30    Mercedes     E-Class    2100    1605  115\n",
      "31       Volvo        XC70    2000    1746  117\n",
      "32        Ford       B-Max    1600    1235  104\n",
      "33         BMW         216    1600    1390  108\n",
      "34        Opel      Zafira    1600    1405  109\n",
      "35    Mercedes         SLK    2500    1395  120\n"
     ]
    }
   ],
   "source": [
    "df = pd.read_csv(r\"C:\\Users\\User\\OneDrive\\Desktop\\cars.csv\")\n",
    "print (df)"
   ]
  },
  {
   "cell_type": "code",
   "execution_count": 90,
   "metadata": {},
   "outputs": [],
   "source": [
    "X1 = df['Volume']\n",
    "X2 = df['Weight']\n",
    "y = df['CO2']"
   ]
  },
  {
   "cell_type": "code",
   "execution_count": 91,
   "metadata": {},
   "outputs": [
    {
     "data": {
      "text/plain": [
       "0.5920817946918738"
      ]
     },
     "execution_count": 91,
     "metadata": {},
     "output_type": "execute_result"
    }
   ],
   "source": [
    "np.corrcoef(X1, y)[0,1]\n"
   ]
  },
  {
   "cell_type": "code",
   "execution_count": 92,
   "metadata": {},
   "outputs": [
    {
     "data": {
      "text/plain": [
       "0.5521500341348635"
      ]
     },
     "execution_count": 92,
     "metadata": {},
     "output_type": "execute_result"
    }
   ],
   "source": [
    "np.corrcoef(X2, y)[0,1]\n"
   ]
  },
  {
   "cell_type": "markdown",
   "metadata": {},
   "source": [
    "As correlation coefficient of X1 i.e. Volume is more then X2 i.e. Weight so, we will use Volume to predict Carbon Dioxide Emission"
   ]
  },
  {
   "cell_type": "code",
   "execution_count": 93,
   "metadata": {},
   "outputs": [],
   "source": [
    "xmean=np.mean(X1)\n",
    "ymean=np.mean(y)"
   ]
  },
  {
   "cell_type": "code",
   "execution_count": 98,
   "metadata": {},
   "outputs": [],
   "source": [
    "numerator=0\n",
    "denominator=0\n",
    "for i in range(0, len(y)):\n",
    "    numerator=numerator+(X1[i]-xmean)*(y[i]-ymean)\n",
    "    denominator=denominator+(X1[i]-xmean)**2\n",
    "    \n",
    "beta=numerator/denominator\n",
    "alpha=ymean-beta*xmean"
   ]
  },
  {
   "cell_type": "code",
   "execution_count": 99,
   "metadata": {},
   "outputs": [
    {
     "name": "stdout",
     "output_type": "stream",
     "text": [
      "Input Actual Predicted\n",
      "1000   99    95.09347461183383\n",
      "1200   95    97.36288292068821\n",
      "1000   95    95.09347461183383\n",
      "900   90    93.95877045740663\n",
      "1500   105    100.76699538396979\n",
      "1000   105    95.09347461183383\n",
      "1400   90    99.6322912295426\n",
      "1500   92    100.76699538396979\n",
      "1500   98    100.76699538396979\n",
      "1600   99    101.90169953839698\n",
      "1100   99    96.22817876626101\n",
      "1300   101    98.4975870751154\n",
      "1000   99    95.09347461183383\n",
      "1600   94    101.90169953839698\n",
      "1600   97    101.90169953839698\n",
      "1600   97    101.90169953839698\n",
      "1600   99    101.90169953839698\n",
      "2200   104    108.70992446496014\n",
      "1600   104    101.90169953839698\n",
      "2000   105    106.44051615610576\n",
      "1600   94    101.90169953839698\n",
      "2000   99    106.44051615610576\n",
      "2100   99    107.57522031053294\n",
      "1600   99    101.90169953839698\n",
      "2000   99    106.44051615610576\n",
      "1500   102    100.76699538396979\n",
      "2000   104    106.44051615610576\n",
      "2000   114    106.44051615610576\n",
      "1600   109    101.90169953839698\n",
      "2000   114    106.44051615610576\n",
      "2100   115    107.57522031053294\n",
      "2000   117    106.44051615610576\n",
      "1600   104    101.90169953839698\n",
      "1600   108    101.90169953839698\n",
      "1600   109    101.90169953839698\n",
      "2500   120    112.11403692824172\n"
     ]
    }
   ],
   "source": [
    "predicted=[]\n",
    "print(\"Input\",end=\" \")\n",
    "print(\"Actual\",end=\" \")\n",
    "print(\"Predicted\")\n",
    "for i in range(0,len(X1)):\n",
    "    print(X1[i],end=\"   \")\n",
    "    print(y[i],end=\"    \")\n",
    "    predicted.append(alpha+beta*X1[i])\n",
    "    print(predicted[i])\n",
    "predicted=pd.Series(predicted)"
   ]
  },
  {
   "cell_type": "code",
   "execution_count": 100,
   "metadata": {},
   "outputs": [
    {
     "data": {
      "image/png": "[encoded data removed]",
      "text/plain": [
       "<Figure size 432x288 with 1 Axes>"
      ]
     },
     "metadata": {
      "needs_background": "light"
     },
     "output_type": "display_data"
    }
   ],
   "source": [
    "plt.plot(X1,y)\n",
    "plt.plot(X1,predicted)\n",
    "plt.show()"
   ]
  },
  {
   "cell_type": "markdown",
   "metadata": {},
   "source": [
    "I don't know why it is givng straight line for X1 and predicted\n",
    "\n",
    "\n",
    "done with reading of Q3"
   ]
  },
  {
   "cell_type": "code",
   "execution_count": null,
   "metadata": {},
   "outputs": [],
   "source": []
  },
  {
   "cell_type": "code",
   "execution_count": null,
   "metadata": {},
   "outputs": [],
   "source": []
  }
 ],
 "metadata": {
  "kernelspec": {
   "display_name": "Python 3",
   "language": "python",
   "name": "python3"
  },
  "language_info": {
   "codemirror_mode": {
    "name": "ipython",
    "version": 3
   },
   "file_extension": ".py",
   "mimetype": "text/x-python",
   "name": "python",
   "nbconvert_exporter": "python",
   "pygments_lexer": "ipython3",
   "version": "3.8.3"
  }
 },
 "nbformat": 4,
 "nbformat_minor": 5
}
