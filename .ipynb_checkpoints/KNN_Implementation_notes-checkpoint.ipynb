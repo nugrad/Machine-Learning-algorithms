{
 "cells": [
  {
   "cell_type": "markdown",
   "metadata": {},
   "source": [
    "<h1 style='color:blue'> What is SKlearn or scikit learn</h1>"
   ]
  },
  {
   "cell_type": "markdown",
   "metadata": {},
   "source": [
    "<div>\n",
    "<p>Scikit-learn is probably the most useful library for machine learning in Python. The sklearn library contains a lot of efficient tools for machine learning and statistical modeling including classification, regression, clustering and dimensionality reduction.</p></div>\n",
    "<div>\n",
    "    <p>Please note that sklearn is used to build machine learning models. It should not be used for reading the data, manipulating and summarizing it. There are better libraries for that (e.g. NumPy, Pandas etc.)</p></div>"
   ]
  },
  {
   "cell_type": "markdown",
   "metadata": {},
   "source": [
    "## Components of scikit learn are :"
   ]
  },
  {
   "cell_type": "markdown",
   "metadata": {},
   "source": [
    "<ul>\n",
    "<li><b style='color:red'>Supervised learning algorithms:</b> Think of any supervised machine learning algorithm you might have heard about and there is a very high chance that it is part of scikit-learn. Starting from Generalized linear models (e.g Linear Regression), Support Vector Machines (SVM), Decision Trees to Bayesian methods – all of them are part of scikit-learn toolbox. The spread of machine learning algorithms is one of the big reasons for the high usage of scikit-learn. I started using scikit to solve supervised learning problems and would recommend that to people new to scikit / machine learning as well.\n",
    "<span> some algorthims are;\n",
    "    <ol>\n",
    "<li>Regression, including Linear and Logistic Regression algorithms etc</li>\n",
    "<li>Classification, including K-Nearest Neighbors algorithms etc</li>\n",
    "<li>Naive Bayes</li>\n",
    "</ol>\n",
    "    </span></li>\n",
    "    <li><b style='color:red'>Cross-validation:</b> There are various methods to check the accuracy of supervised models on unseen data using sklearn.</li>\n",
    "    <li><b  style='color:red'>Unsupervised learning algorithms:</b> Again there is a large spread of machine learning algorithms in the offering – starting from clustering, factor analysis, principal component analysis to unsupervised neural networks.\n",
    "    <span> some algorthims are;\n",
    "    <ol>\n",
    "<li>Clustering, including K-Means and K-Means++ etc</li>\n",
    "<li> Neural Netorks</li>\n",
    "\n",
    "</ol>\n",
    "    </span></li>\n",
    "</ul>"
   ]
  },
  {
   "cell_type": "markdown",
   "metadata": {},
   "source": [
    " ### Supervised Learning Algorithms"
   ]
  },
  {
   "cell_type": "markdown",
   "metadata": {},
   "source": [
    "<p> it is the learning where the value or result that we want to predict is within the training data (labeled data) and the value which is in data that we want to study is known as Target or Dependent Variable or Response Variable.</p>\n",
    "<p>All the other columns in the dataset are known as the Feature or Predictor Variable or Independent Variable.</p>\n",
    "<p> Can be divided into :<ol>\n",
    "<li>Classification: Here our target variable consists of the categories.</li>\n",
    "<li>Regression: Here our target variable is continuous and we usually try to find out the line of the curve.</li>\n",
    "\n",
    "</ol>\n",
    "</p>"
   ]
  },
  {
   "cell_type": "markdown",
   "metadata": {},
   "source": [
    "# KNN ALGORITHM"
   ]
  },
  {
   "cell_type": "markdown",
   "metadata": {},
   "source": [
    "<div>\n",
    "classification algorithim that creates a  imaginary boundary to classify the data\n",
    "when a new point comes in that boundary,the algorithm will try to predict the nearest boundary line.\n",
    "Using the k-nearest neighbor algorithm we fit the historical data (or train the model) and predict the future. \n",
    "    </div>\n",
    "   <div> \n",
    "there are two variables;\n",
    "A target variable, which is also called the dependent variable or the y variable.\n",
    "Independent variables, which are also known as x variables or explanatory variables.\n",
    "    </div>"
   ]
  },
  {
   "cell_type": "code",
   "execution_count": 4,
   "metadata": {},
   "outputs": [
    {
     "name": "stdout",
     "output_type": "stream",
     "text": [
      "llo\n"
     ]
    }
   ],
   "source": [
    "# first for my understanding iam recalling the concept of slicing\n",
    "# so\n",
    "x=\"hello world\"\n",
    "print(x[2:5])# index two till 5 not including 5"
   ]
  },
  {
   "cell_type": "code",
   "execution_count": 5,
   "metadata": {},
   "outputs": [
    {
     "name": "stdout",
     "output_type": "stream",
     "text": [
      "hello\n"
     ]
    }
   ],
   "source": [
    "print(x[:5])#  from start till index 5 not including 5"
   ]
  },
  {
   "cell_type": "code",
   "execution_count": 6,
   "metadata": {},
   "outputs": [
    {
     "name": "stdout",
     "output_type": "stream",
     "text": [
      "llo world\n"
     ]
    }
   ],
   "source": [
    "print(x[2:])# index 2 till all the way"
   ]
  },
  {
   "cell_type": "code",
   "execution_count": 7,
   "metadata": {},
   "outputs": [
    {
     "name": "stdout",
     "output_type": "stream",
     "text": [
      "wor\n"
     ]
    }
   ],
   "source": [
    "print(x[-5:-2])# index -5 which is w not included till index -2"
   ]
  },
  {
   "cell_type": "code",
   "execution_count": 10,
   "metadata": {},
   "outputs": [
    {
     "name": "stdout",
     "output_type": "stream",
     "text": [
      "hello worl\n"
     ]
    }
   ],
   "source": [
    "print(x[:-1])# tll last letter not including it"
   ]
  },
  {
   "cell_type": "code",
   "execution_count": 11,
   "metadata": {},
   "outputs": [
    {
     "name": "stdout",
     "output_type": "stream",
     "text": [
      "d\n"
     ]
    }
   ],
   "source": [
    "print(x[-1])# last item"
   ]
  },
  {
   "cell_type": "markdown",
   "metadata": {},
   "source": [
    "now to our main work"
   ]
  },
  {
   "cell_type": "markdown",
   "metadata": {},
   "source": [
    "#### A categorical dataset to determine whether a user purchased a particular product"
   ]
  },
  {
   "cell_type": "code",
   "execution_count": 14,
   "metadata": {},
   "outputs": [
    {
     "data": {
      "text/html": [
       "<div>\n",
       "<style scoped>\n",
       "    .dataframe tbody tr th:only-of-type {\n",
       "        vertical-align: middle;\n",
       "    }\n",
       "\n",
       "    .dataframe tbody tr th {\n",
       "        vertical-align: top;\n",
       "    }\n",
       "\n",
       "    .dataframe thead th {\n",
       "        text-align: right;\n",
       "    }\n",
       "</style>\n",
       "<table border=\"1\" class=\"dataframe\">\n",
       "  <thead>\n",
       "    <tr style=\"text-align: right;\">\n",
       "      <th></th>\n",
       "      <th>User ID</th>\n",
       "      <th>Gender</th>\n",
       "      <th>Age</th>\n",
       "      <th>EstimatedSalary</th>\n",
       "      <th>Purchased</th>\n",
       "    </tr>\n",
       "  </thead>\n",
       "  <tbody>\n",
       "    <tr>\n",
       "      <th>0</th>\n",
       "      <td>15624510</td>\n",
       "      <td>Male</td>\n",
       "      <td>19</td>\n",
       "      <td>19000</td>\n",
       "      <td>0</td>\n",
       "    </tr>\n",
       "    <tr>\n",
       "      <th>1</th>\n",
       "      <td>15810944</td>\n",
       "      <td>Male</td>\n",
       "      <td>35</td>\n",
       "      <td>20000</td>\n",
       "      <td>0</td>\n",
       "    </tr>\n",
       "    <tr>\n",
       "      <th>2</th>\n",
       "      <td>15668575</td>\n",
       "      <td>Female</td>\n",
       "      <td>26</td>\n",
       "      <td>43000</td>\n",
       "      <td>0</td>\n",
       "    </tr>\n",
       "    <tr>\n",
       "      <th>3</th>\n",
       "      <td>15603246</td>\n",
       "      <td>Female</td>\n",
       "      <td>27</td>\n",
       "      <td>57000</td>\n",
       "      <td>0</td>\n",
       "    </tr>\n",
       "    <tr>\n",
       "      <th>4</th>\n",
       "      <td>15804002</td>\n",
       "      <td>Male</td>\n",
       "      <td>19</td>\n",
       "      <td>76000</td>\n",
       "      <td>0</td>\n",
       "    </tr>\n",
       "    <tr>\n",
       "      <th>...</th>\n",
       "      <td>...</td>\n",
       "      <td>...</td>\n",
       "      <td>...</td>\n",
       "      <td>...</td>\n",
       "      <td>...</td>\n",
       "    </tr>\n",
       "    <tr>\n",
       "      <th>395</th>\n",
       "      <td>15691863</td>\n",
       "      <td>Female</td>\n",
       "      <td>46</td>\n",
       "      <td>41000</td>\n",
       "      <td>1</td>\n",
       "    </tr>\n",
       "    <tr>\n",
       "      <th>396</th>\n",
       "      <td>15706071</td>\n",
       "      <td>Male</td>\n",
       "      <td>51</td>\n",
       "      <td>23000</td>\n",
       "      <td>1</td>\n",
       "    </tr>\n",
       "    <tr>\n",
       "      <th>397</th>\n",
       "      <td>15654296</td>\n",
       "      <td>Female</td>\n",
       "      <td>50</td>\n",
       "      <td>20000</td>\n",
       "      <td>1</td>\n",
       "    </tr>\n",
       "    <tr>\n",
       "      <th>398</th>\n",
       "      <td>15755018</td>\n",
       "      <td>Male</td>\n",
       "      <td>36</td>\n",
       "      <td>33000</td>\n",
       "      <td>0</td>\n",
       "    </tr>\n",
       "    <tr>\n",
       "      <th>399</th>\n",
       "      <td>15594041</td>\n",
       "      <td>Female</td>\n",
       "      <td>49</td>\n",
       "      <td>36000</td>\n",
       "      <td>1</td>\n",
       "    </tr>\n",
       "  </tbody>\n",
       "</table>\n",
       "<p>400 rows × 5 columns</p>\n",
       "</div>"
      ],
      "text/plain": [
       "      User ID  Gender  Age  EstimatedSalary  Purchased\n",
       "0    15624510    Male   19            19000          0\n",
       "1    15810944    Male   35            20000          0\n",
       "2    15668575  Female   26            43000          0\n",
       "3    15603246  Female   27            57000          0\n",
       "4    15804002    Male   19            76000          0\n",
       "..        ...     ...  ...              ...        ...\n",
       "395  15691863  Female   46            41000          1\n",
       "396  15706071    Male   51            23000          1\n",
       "397  15654296  Female   50            20000          1\n",
       "398  15755018    Male   36            33000          0\n",
       "399  15594041  Female   49            36000          1\n",
       "\n",
       "[400 rows x 5 columns]"
      ]
     },
     "execution_count": 14,
     "metadata": {},
     "output_type": "execute_result"
    }
   ],
   "source": [
    "# all libraries that will be used\n",
    "import pandas as pd\n",
    "import numpy as np\n",
    "from math import sqrt\n",
    "from sklearn.model_selection import train_test_split,cross_val_score\n",
    "from sklearn.neighbors import KNeighborsClassifier\n",
    "from sklearn.metrics import confusion_matrix\n",
    "from sklearn.metrics import accuracy_score\n",
    "from sklearn.metrics import classification_report\n",
    "from sklearn.metrics import mean_squared_error\n",
    "# read dataset\n",
    "df=pd.read_csv('Social_Network_Ads.csv')\n",
    "df"
   ]
  },
  {
   "cell_type": "code",
   "execution_count": 15,
   "metadata": {},
   "outputs": [
    {
     "data": {
      "text/html": [
       "<div>\n",
       "<style scoped>\n",
       "    .dataframe tbody tr th:only-of-type {\n",
       "        vertical-align: middle;\n",
       "    }\n",
       "\n",
       "    .dataframe tbody tr th {\n",
       "        vertical-align: top;\n",
       "    }\n",
       "\n",
       "    .dataframe thead th {\n",
       "        text-align: right;\n",
       "    }\n",
       "</style>\n",
       "<table border=\"1\" class=\"dataframe\">\n",
       "  <thead>\n",
       "    <tr style=\"text-align: right;\">\n",
       "      <th></th>\n",
       "      <th>User ID</th>\n",
       "      <th>Gender</th>\n",
       "      <th>Age</th>\n",
       "      <th>EstimatedSalary</th>\n",
       "      <th>Purchased</th>\n",
       "    </tr>\n",
       "  </thead>\n",
       "  <tbody>\n",
       "    <tr>\n",
       "      <th>0</th>\n",
       "      <td>15624510</td>\n",
       "      <td>Male</td>\n",
       "      <td>19</td>\n",
       "      <td>19000</td>\n",
       "      <td>0</td>\n",
       "    </tr>\n",
       "    <tr>\n",
       "      <th>1</th>\n",
       "      <td>15810944</td>\n",
       "      <td>Male</td>\n",
       "      <td>35</td>\n",
       "      <td>20000</td>\n",
       "      <td>0</td>\n",
       "    </tr>\n",
       "    <tr>\n",
       "      <th>2</th>\n",
       "      <td>15668575</td>\n",
       "      <td>Female</td>\n",
       "      <td>26</td>\n",
       "      <td>43000</td>\n",
       "      <td>0</td>\n",
       "    </tr>\n",
       "    <tr>\n",
       "      <th>3</th>\n",
       "      <td>15603246</td>\n",
       "      <td>Female</td>\n",
       "      <td>27</td>\n",
       "      <td>57000</td>\n",
       "      <td>0</td>\n",
       "    </tr>\n",
       "    <tr>\n",
       "      <th>4</th>\n",
       "      <td>15804002</td>\n",
       "      <td>Male</td>\n",
       "      <td>19</td>\n",
       "      <td>76000</td>\n",
       "      <td>0</td>\n",
       "    </tr>\n",
       "  </tbody>\n",
       "</table>\n",
       "</div>"
      ],
      "text/plain": [
       "    User ID  Gender  Age  EstimatedSalary  Purchased\n",
       "0  15624510    Male   19            19000          0\n",
       "1  15810944    Male   35            20000          0\n",
       "2  15668575  Female   26            43000          0\n",
       "3  15603246  Female   27            57000          0\n",
       "4  15804002    Male   19            76000          0"
      ]
     },
     "execution_count": 15,
     "metadata": {},
     "output_type": "execute_result"
    }
   ],
   "source": [
    "df.head()"
   ]
  },
  {
   "cell_type": "code",
   "execution_count": 16,
   "metadata": {},
   "outputs": [
    {
     "data": {
      "text/html": [
       "<div>\n",
       "<style scoped>\n",
       "    .dataframe tbody tr th:only-of-type {\n",
       "        vertical-align: middle;\n",
       "    }\n",
       "\n",
       "    .dataframe tbody tr th {\n",
       "        vertical-align: top;\n",
       "    }\n",
       "\n",
       "    .dataframe thead th {\n",
       "        text-align: right;\n",
       "    }\n",
       "</style>\n",
       "<table border=\"1\" class=\"dataframe\">\n",
       "  <thead>\n",
       "    <tr style=\"text-align: right;\">\n",
       "      <th></th>\n",
       "      <th>User ID</th>\n",
       "      <th>Gender</th>\n",
       "      <th>Age</th>\n",
       "      <th>EstimatedSalary</th>\n",
       "      <th>Purchased</th>\n",
       "    </tr>\n",
       "  </thead>\n",
       "  <tbody>\n",
       "    <tr>\n",
       "      <th>0</th>\n",
       "      <td>15624510</td>\n",
       "      <td>1</td>\n",
       "      <td>19</td>\n",
       "      <td>19000</td>\n",
       "      <td>0</td>\n",
       "    </tr>\n",
       "    <tr>\n",
       "      <th>1</th>\n",
       "      <td>15810944</td>\n",
       "      <td>1</td>\n",
       "      <td>35</td>\n",
       "      <td>20000</td>\n",
       "      <td>0</td>\n",
       "    </tr>\n",
       "    <tr>\n",
       "      <th>2</th>\n",
       "      <td>15668575</td>\n",
       "      <td>0</td>\n",
       "      <td>26</td>\n",
       "      <td>43000</td>\n",
       "      <td>0</td>\n",
       "    </tr>\n",
       "    <tr>\n",
       "      <th>3</th>\n",
       "      <td>15603246</td>\n",
       "      <td>0</td>\n",
       "      <td>27</td>\n",
       "      <td>57000</td>\n",
       "      <td>0</td>\n",
       "    </tr>\n",
       "    <tr>\n",
       "      <th>4</th>\n",
       "      <td>15804002</td>\n",
       "      <td>1</td>\n",
       "      <td>19</td>\n",
       "      <td>76000</td>\n",
       "      <td>0</td>\n",
       "    </tr>\n",
       "    <tr>\n",
       "      <th>5</th>\n",
       "      <td>15728773</td>\n",
       "      <td>1</td>\n",
       "      <td>27</td>\n",
       "      <td>58000</td>\n",
       "      <td>0</td>\n",
       "    </tr>\n",
       "    <tr>\n",
       "      <th>6</th>\n",
       "      <td>15598044</td>\n",
       "      <td>0</td>\n",
       "      <td>27</td>\n",
       "      <td>84000</td>\n",
       "      <td>0</td>\n",
       "    </tr>\n",
       "    <tr>\n",
       "      <th>7</th>\n",
       "      <td>15694829</td>\n",
       "      <td>0</td>\n",
       "      <td>32</td>\n",
       "      <td>150000</td>\n",
       "      <td>1</td>\n",
       "    </tr>\n",
       "    <tr>\n",
       "      <th>8</th>\n",
       "      <td>15600575</td>\n",
       "      <td>1</td>\n",
       "      <td>25</td>\n",
       "      <td>33000</td>\n",
       "      <td>0</td>\n",
       "    </tr>\n",
       "    <tr>\n",
       "      <th>9</th>\n",
       "      <td>15727311</td>\n",
       "      <td>0</td>\n",
       "      <td>35</td>\n",
       "      <td>65000</td>\n",
       "      <td>0</td>\n",
       "    </tr>\n",
       "    <tr>\n",
       "      <th>10</th>\n",
       "      <td>15570769</td>\n",
       "      <td>0</td>\n",
       "      <td>26</td>\n",
       "      <td>80000</td>\n",
       "      <td>0</td>\n",
       "    </tr>\n",
       "    <tr>\n",
       "      <th>11</th>\n",
       "      <td>15606274</td>\n",
       "      <td>0</td>\n",
       "      <td>26</td>\n",
       "      <td>52000</td>\n",
       "      <td>0</td>\n",
       "    </tr>\n",
       "    <tr>\n",
       "      <th>12</th>\n",
       "      <td>15746139</td>\n",
       "      <td>1</td>\n",
       "      <td>20</td>\n",
       "      <td>86000</td>\n",
       "      <td>0</td>\n",
       "    </tr>\n",
       "    <tr>\n",
       "      <th>13</th>\n",
       "      <td>15704987</td>\n",
       "      <td>1</td>\n",
       "      <td>32</td>\n",
       "      <td>18000</td>\n",
       "      <td>0</td>\n",
       "    </tr>\n",
       "    <tr>\n",
       "      <th>14</th>\n",
       "      <td>15628972</td>\n",
       "      <td>1</td>\n",
       "      <td>18</td>\n",
       "      <td>82000</td>\n",
       "      <td>0</td>\n",
       "    </tr>\n",
       "  </tbody>\n",
       "</table>\n",
       "</div>"
      ],
      "text/plain": [
       "     User ID  Gender  Age  EstimatedSalary  Purchased\n",
       "0   15624510       1   19            19000          0\n",
       "1   15810944       1   35            20000          0\n",
       "2   15668575       0   26            43000          0\n",
       "3   15603246       0   27            57000          0\n",
       "4   15804002       1   19            76000          0\n",
       "5   15728773       1   27            58000          0\n",
       "6   15598044       0   27            84000          0\n",
       "7   15694829       0   32           150000          1\n",
       "8   15600575       1   25            33000          0\n",
       "9   15727311       0   35            65000          0\n",
       "10  15570769       0   26            80000          0\n",
       "11  15606274       0   26            52000          0\n",
       "12  15746139       1   20            86000          0\n",
       "13  15704987       1   32            18000          0\n",
       "14  15628972       1   18            82000          0"
      ]
     },
     "execution_count": 16,
     "metadata": {},
     "output_type": "execute_result"
    }
   ],
   "source": [
    "# our gender column is chracter variable so we have to labelcode it\n",
    "from sklearn import preprocessing\n",
    "le = preprocessing.LabelEncoder()\n",
    "#convert the categorical columns into numeric\n",
    "df['Gender'] = le.fit_transform(df['Gender'])\n",
    "df.head(15)"
   ]
  },
  {
   "cell_type": "markdown",
   "metadata": {},
   "source": [
    "slicing dataset into independent(x) and dependent variables(y)\n",
    "we use iloc\n",
    "but before selection ,we can look into selection basics\n"
   ]
  },
  {
   "cell_type": "code",
   "execution_count": null,
   "metadata": {},
   "outputs": [],
   "source": [
    "#Syntax is\n",
    "\n",
    "#data.iloc[<row selection>, <column selection>]"
   ]
  },
  {
   "cell_type": "code",
   "execution_count": 18,
   "metadata": {},
   "outputs": [],
   "source": [
    "# examples are;\n",
    "#data.iloc[0]# first row\n",
    "#data.iloc[1]# second row\n",
    "#data.iloc[-1]# last row\n",
    "#data.iloc[:,0] # first column of data frame\n",
    "#data.iloc[:,1] # second column of data frame\n",
    "#data.iloc[:,-1] # last column of data frame\n",
    "#data.iloc[0:5] # first five rows of dataframe\n",
    "#data.iloc[:, 0:2] # first two columns of data frame with all rows\n",
    "#data.iloc[[0,3,6,24], [0,5,6]] # 1st, 4th, 7th, 25th row + 1st 6th 7th columns.\n",
    "#data.iloc[0:5, 5:8] # first 5 rows and 5th, 6th, 7th columns of data frame"
   ]
  },
  {
   "cell_type": "code",
   "execution_count": 19,
   "metadata": {},
   "outputs": [],
   "source": [
    "# for for our dataset\n",
    "X = df.iloc[:, [1, 2, 3]].values# all rows with col 2 3 and 4,will be used to pedict y\n",
    "y = df.iloc[:, -1].values# all rows with last column"
   ]
  },
  {
   "cell_type": "code",
   "execution_count": 20,
   "metadata": {},
   "outputs": [],
   "source": [
    "# now we divide our dataset into train test split\n",
    "# now if we set test_size to 0.2 it automatically sets our train_set to 80\n",
    "# while random state is used On a serious note, random_state simply sets a seed to the random generator,\n",
    "#so that your train-test splits are always deterministic.\n",
    "#If you don't set a seed, it is different each time\n",
    "#splitting the data in train and test is randomised you would get different data assigned to the train and\n",
    "#test data unless you can control for the random factor.\n",
    "X_train,X_test,y_train,y_test=train_test_split(X,y,test_size=0.2,random_state=42)"
   ]
  },
  {
   "cell_type": "code",
   "execution_count": 23,
   "metadata": {},
   "outputs": [],
   "source": [
    "#Next, we are doing feature scaling to the training and test set of independent variables\n",
    "#for reducing the size to smaller values\n",
    "from sklearn.preprocessing import StandardScaler\n",
    "sc = StandardScaler()\n",
    "X_train = sc.fit_transform(X_train)\n",
    "X_test = sc.transform(X_test)"
   ]
  },
  {
   "cell_type": "code",
   "execution_count": 22,
   "metadata": {},
   "outputs": [
    {
     "name": "stdout",
     "output_type": "stream",
     "text": [
      "X_train [[     0     27  57000]\n",
      " [     1     46  28000]\n",
      " [     0     39 134000]\n",
      " [     0     44  39000]\n",
      " [     0     57  26000]\n",
      " [     1     32 120000]\n",
      " [     1     41  52000]\n",
      " [     1     48  74000]\n",
      " [     1     26  86000]\n",
      " [     1     22  81000]\n",
      " [     1     49  86000]\n",
      " [     0     36  54000]\n",
      " [     1     40  59000]\n",
      " [     0     41  80000]\n",
      " [     1     26  16000]\n",
      " [     0     39  79000]\n",
      " [     1     59 130000]\n",
      " [     1     42  64000]\n",
      " [     0     53 143000]\n",
      " [     1     34 112000]\n",
      " [     0     57 122000]\n",
      " [     0     39  71000]\n",
      " [     1     47  25000]\n",
      " [     1     24  19000]\n",
      " [     0     36  50000]\n",
      " [     0     32 150000]\n",
      " [     0     48  29000]\n",
      " [     1     30 107000]\n",
      " [     1     60  34000]\n",
      " [     1     38  61000]\n",
      " [     1     33  31000]\n",
      " [     1     39  71000]\n",
      " [     1     55  39000]\n",
      " [     0     49  39000]\n",
      " [     0     43 112000]\n",
      " [     1     27  20000]\n",
      " [     0     26  17000]\n",
      " [     0     37  93000]\n",
      " [     1     42  54000]\n",
      " [     1     35  61000]\n",
      " [     1     29  75000]\n",
      " [     0     38  80000]\n",
      " [     1     45  26000]\n",
      " [     0     54 108000]\n",
      " [     1     46  23000]\n",
      " [     0     23  28000]\n",
      " [     1     37  75000]\n",
      " [     1     42  65000]\n",
      " [     0     35  71000]\n",
      " [     0     51 146000]\n",
      " [     1     39  96000]\n",
      " [     0     24  89000]\n",
      " [     0     58  95000]\n",
      " [     1     25  22000]\n",
      " [     1     41  59000]\n",
      " [     1     28  89000]\n",
      " [     0     42  80000]\n",
      " [     0     42 108000]\n",
      " [     0     46  96000]\n",
      " [     0     47 113000]\n",
      " [     0     33  28000]\n",
      " [     1     19  25000]\n",
      " [     1     49  89000]\n",
      " [     0     31  15000]\n",
      " [     0     30  79000]\n",
      " [     1     48 141000]\n",
      " [     0     32 117000]\n",
      " [     0     37  71000]\n",
      " [     0     18  86000]\n",
      " [     0     42  79000]\n",
      " [     0     27  84000]\n",
      " [     1     40  65000]\n",
      " [     1     57  74000]\n",
      " [     0     26  15000]\n",
      " [     0     26  80000]\n",
      " [     1     29  43000]\n",
      " [     0     33 149000]\n",
      " [     1     39  42000]\n",
      " [     0     54 104000]\n",
      " [     1     36  33000]\n",
      " [     0     46  32000]\n",
      " [     0     40 142000]\n",
      " [     0     37  62000]\n",
      " [     1     29 148000]\n",
      " [     0     37  57000]\n",
      " [     1     35  50000]\n",
      " [     0     42  53000]\n",
      " [     1     35  38000]\n",
      " [     0     41  30000]\n",
      " [     0     40  72000]\n",
      " [     1     26  15000]\n",
      " [     0     31  68000]\n",
      " [     1     35  53000]\n",
      " [     0     35  25000]\n",
      " [     1     30  89000]\n",
      " [     1     41  72000]\n",
      " [     1     28 123000]\n",
      " [     0     46  82000]\n",
      " [     0     22  63000]\n",
      " [     0     45  22000]\n",
      " [     1     30  49000]\n",
      " [     0     34  25000]\n",
      " [     0     40  75000]\n",
      " [     0     32 117000]\n",
      " [     0     23  82000]\n",
      " [     1     26  80000]\n",
      " [     0     48 131000]\n",
      " [     1     59 143000]\n",
      " [     1     35  55000]\n",
      " [     1     34  43000]\n",
      " [     0     39  61000]\n",
      " [     0     27  96000]\n",
      " [     1     60  83000]\n",
      " [     1     24  55000]\n",
      " [     1     58 144000]\n",
      " [     0     53 104000]\n",
      " [     1     35  79000]\n",
      " [     1     36  99000]\n",
      " [     1     57  60000]\n",
      " [     0     37 137000]\n",
      " [     1     33  43000]\n",
      " [     0     41  71000]\n",
      " [     0     52  21000]\n",
      " [     1     52 150000]\n",
      " [     1     37  70000]\n",
      " [     0     26  84000]\n",
      " [     0     26  72000]\n",
      " [     0     26  52000]\n",
      " [     0     41  60000]\n",
      " [     1     31  66000]\n",
      " [     1     37 144000]\n",
      " [     1     38  61000]\n",
      " [     0     31  34000]\n",
      " [     0     42  75000]\n",
      " [     1     46 117000]\n",
      " [     1     36  52000]\n",
      " [     1     38  71000]\n",
      " [     1     49  88000]\n",
      " [     0     57  33000]\n",
      " [     0     48 138000]\n",
      " [     0     47  50000]\n",
      " [     0     33  69000]\n",
      " [     0     37 146000]\n",
      " [     0     20  82000]\n",
      " [     1     40  47000]\n",
      " [     1     35  22000]\n",
      " [     0     20  36000]\n",
      " [     0     45  45000]\n",
      " [     0     26  43000]\n",
      " [     0     58 101000]\n",
      " [     1     40  57000]\n",
      " [     0     38 112000]\n",
      " [     0     37  80000]\n",
      " [     1     49  28000]\n",
      " [     0     36  75000]\n",
      " [     0     41  72000]\n",
      " [     0     35  60000]\n",
      " [     1     43 129000]\n",
      " [     1     41  87000]\n",
      " [     0     38 113000]\n",
      " [     0     58  23000]\n",
      " [     1     26  32000]\n",
      " [     1     32  18000]\n",
      " [     1     41  52000]\n",
      " [     1     31  18000]\n",
      " [     1     35  88000]\n",
      " [     0     48  35000]\n",
      " [     1     27  89000]\n",
      " [     0     35  97000]\n",
      " [     1     42  73000]\n",
      " [     0     21  68000]\n",
      " [     0     41  72000]\n",
      " [     0     33  60000]\n",
      " [     1     39 134000]\n",
      " [     0     28  84000]\n",
      " [     1     46  88000]\n",
      " [     1     24  58000]\n",
      " [     0     31 118000]\n",
      " [     0     50  88000]\n",
      " [     0     20  82000]\n",
      " [     0     32 135000]\n",
      " [     1     20  86000]\n",
      " [     1     35  27000]\n",
      " [     1     29  43000]\n",
      " [     1     21  88000]\n",
      " [     1     35  59000]\n",
      " [     1     45  32000]\n",
      " [     1     60  42000]\n",
      " [     1     35  91000]\n",
      " [     0     35  44000]\n",
      " [     0     18  44000]\n",
      " [     1     42 149000]\n",
      " [     1     45  79000]\n",
      " [     0     40  60000]\n",
      " [     1     24  23000]\n",
      " [     0     33  51000]\n",
      " [     0     42  70000]\n",
      " [     0     55 130000]\n",
      " [     0     50  44000]\n",
      " [     0     48 119000]\n",
      " [     1     19  76000]\n",
      " [     0     41  72000]\n",
      " [     1     40  71000]\n",
      " [     1     27  88000]\n",
      " [     0     36 126000]\n",
      " [     1     35  75000]\n",
      " [     1     35  58000]\n",
      " [     1     34 115000]\n",
      " [     1     35  73000]\n",
      " [     0     60 108000]\n",
      " [     1     25  87000]\n",
      " [     0     27  54000]\n",
      " [     0     21  16000]\n",
      " [     1     37  74000]\n",
      " [     1     35  39000]\n",
      " [     1     54  70000]\n",
      " [     0     47  30000]\n",
      " [     0     38  50000]\n",
      " [     0     35 147000]\n",
      " [     0     35  77000]\n",
      " [     1     41  79000]\n",
      " [     0     37  33000]\n",
      " [     0     60  46000]\n",
      " [     0     28  59000]\n",
      " [     0     23  66000]\n",
      " [     1     23  63000]\n",
      " [     1     30  17000]\n",
      " [     1     25  33000]\n",
      " [     0     59  83000]\n",
      " [     0     58  38000]\n",
      " [     1     18  82000]\n",
      " [     1     46  59000]\n",
      " [     0     27  17000]\n",
      " [     0     58  47000]\n",
      " [     0     48  30000]\n",
      " [     1     49  65000]\n",
      " [     0     50  36000]\n",
      " [     1     53  72000]\n",
      " [     1     40  57000]\n",
      " [     0     52 114000]\n",
      " [     0     59  42000]\n",
      " [     0     36  63000]\n",
      " [     1     42 104000]\n",
      " [     1     37  52000]\n",
      " [     1     48  33000]\n",
      " [     0     59  29000]\n",
      " [     1     37  79000]\n",
      " [     1     40  61000]\n",
      " [     1     49  74000]\n",
      " [     1     25  90000]\n",
      " [     1     30  15000]\n",
      " [     1     40  78000]\n",
      " [     1     24  84000]\n",
      " [     0     38  50000]\n",
      " [     0     45 131000]\n",
      " [     1     21  72000]\n",
      " [     0     35  23000]\n",
      " [     1     35  20000]\n",
      " [     0     31  89000]\n",
      " [     1     30  80000]\n",
      " [     0     47  47000]\n",
      " [     1     27  90000]\n",
      " [     0     35  72000]\n",
      " [     0     30 116000]\n",
      " [     1     39 122000]\n",
      " [     0     29  83000]\n",
      " [     0     41  63000]\n",
      " [     1     48  90000]\n",
      " [     1     38  59000]\n",
      " [     1     32  18000]\n",
      " [     0     39  75000]\n",
      " [     1     26  81000]\n",
      " [     1     39 106000]\n",
      " [     0     22  55000]\n",
      " [     1     36 118000]\n",
      " [     1     60  42000]\n",
      " [     0     28  55000]\n",
      " [     0     51 134000]\n",
      " [     1     49  28000]\n",
      " [     1     36  60000]\n",
      " [     0     56 104000]\n",
      " [     0     27  58000]\n",
      " [     0     24  32000]\n",
      " [     0     34  72000]\n",
      " [     1     28  32000]\n",
      " [     0     50  20000]\n",
      " [     0     33  41000]\n",
      " [     0     29  47000]\n",
      " [     1     22  18000]\n",
      " [     1     30 135000]\n",
      " [     1     47 105000]\n",
      " [     1     46  79000]\n",
      " [     0     48 134000]\n",
      " [     0     47  49000]\n",
      " [     0     49 141000]\n",
      " [     1     32 100000]\n",
      " [     1     38  71000]\n",
      " [     0     19  26000]\n",
      " [     1     37  77000]\n",
      " [     0     47  51000]\n",
      " [     1     40  57000]\n",
      " [     1     36 125000]\n",
      " [     1     20  74000]\n",
      " [     1     31  58000]\n",
      " [     1     41  45000]\n",
      " [     1     42  54000]\n",
      " [     0     28  37000]\n",
      " [     0     39  73000]\n",
      " [     0     28  85000]\n",
      " [     1     38  51000]\n",
      " [     1     47  43000]\n",
      " [     1     37  72000]\n",
      " [     0     49  36000]\n",
      " [     1     45  22000]\n",
      " [     1     35  72000]\n",
      " [     0     24  27000]\n",
      " [     0     26  35000]\n",
      " [     0     43 133000]\n",
      " [     1     39  77000]\n",
      " [     0     32  86000]]\n",
      "y_train [0 1 1 0 1 1 0 1 0 0 1 0 0 0 0 0 1 0 1 1 1 0 1 0 0 1 1 1 1 0 0 0 1 1 1 0 0\n",
      " 1 0 0 0 0 1 1 1 0 0 0 0 1 1 0 1 0 0 0 1 1 0 1 0 0 1 0 0 0 0 0 0 0 0 0 1 0\n",
      " 0 0 1 0 1 0 1 1 0 1 0 0 0 0 0 0 0 0 0 0 0 0 1 0 0 1 0 0 0 1 0 0 1 1 0 0 0\n",
      " 1 1 0 1 1 0 1 1 1 0 0 1 1 1 0 0 0 0 0 1 0 0 0 1 0 0 1 1 1 1 0 1 0 0 0 0 1\n",
      " 0 1 0 0 0 1 0 0 0 1 1 1 1 0 0 0 0 0 1 0 1 1 0 0 0 1 0 1 0 1 1 0 1 0 0 0 0\n",
      " 0 1 1 1 0 0 1 0 0 0 0 0 1 0 1 0 0 1 0 1 0 0 0 0 1 0 0 0 0 0 1 1 0 1 0 0 0\n",
      " 1 0 0 0 0 0 0 1 0 0 0 1 1 0 1 1 0 0 0 0 1 0 1 1 1 0 0 0 0 0 0 0 1 0 0 0 0\n",
      " 0 0 0 0 0 1 0 0 1 0 0 1 0 1 0 1 1 0 0 1 0 1 0 0 0 0 1 0 0 0 1 1 1 1 1 1 1\n",
      " 0 0 0 1 0 1 0 0 0 0 0 0 0 0 0 0 1 1 0 0 0 0 0 0]\n",
      "X_test [[     0     46  22000]\n",
      " [     0     59  88000]\n",
      " [     0     28  44000]\n",
      " [     0     48  96000]\n",
      " [     0     29  28000]\n",
      " [     0     30  62000]\n",
      " [     0     47 107000]\n",
      " [     0     29  83000]\n",
      " [     1     40  75000]\n",
      " [     1     42  65000]\n",
      " [     0     35  65000]\n",
      " [     0     53  34000]\n",
      " [     0     23  48000]\n",
      " [     0     20  23000]\n",
      " [     1     30  87000]\n",
      " [     1     35 108000]\n",
      " [     0     52  38000]\n",
      " [     0     46  74000]\n",
      " [     1     39  42000]\n",
      " [     1     56  60000]\n",
      " [     0     22  27000]\n",
      " [     1     29  80000]\n",
      " [     1     47  23000]\n",
      " [     0     59  76000]\n",
      " [     1     19  19000]\n",
      " [     1     51  23000]\n",
      " [     1     42  80000]\n",
      " [     1     37  53000]\n",
      " [     0     55 125000]\n",
      " [     0     19  21000]\n",
      " [     0     46  41000]\n",
      " [     1     19  70000]\n",
      " [     1     36 144000]\n",
      " [     1     28  79000]\n",
      " [     1     40 107000]\n",
      " [     1     35  75000]\n",
      " [     1     37  55000]\n",
      " [     0     38  65000]\n",
      " [     1     26  30000]\n",
      " [     0     18  68000]\n",
      " [     1     48  33000]\n",
      " [     0     24  55000]\n",
      " [     1     18  52000]\n",
      " [     1     47  20000]\n",
      " [     1     20  49000]\n",
      " [     0     44 139000]\n",
      " [     1     29  61000]\n",
      " [     0     31  71000]\n",
      " [     1     48  41000]\n",
      " [     0     34  43000]\n",
      " [     1     25  79000]\n",
      " [     0     53  82000]\n",
      " [     0     38  55000]\n",
      " [     1     25  80000]\n",
      " [     0     37  80000]\n",
      " [     0     27  31000]\n",
      " [     1     60 102000]\n",
      " [     0     26 118000]\n",
      " [     1     31  74000]\n",
      " [     1     31  76000]\n",
      " [     0     41  51000]\n",
      " [     0     35  57000]\n",
      " [     0     52  90000]\n",
      " [     0     28  87000]\n",
      " [     1     28  59000]\n",
      " [     0     27 137000]\n",
      " [     0     42  90000]\n",
      " [     0     47 144000]\n",
      " [     0     39  59000]\n",
      " [     0     33 113000]\n",
      " [     0     52 138000]\n",
      " [     1     19  85000]\n",
      " [     1     27  58000]\n",
      " [     1     23  20000]\n",
      " [     1     47  34000]\n",
      " [     0     35  50000]\n",
      " [     1     56 133000]\n",
      " [     0     54  26000]\n",
      " [     0     35  47000]\n",
      " [     0     37  78000]]\n",
      "y_test [0 1 0 1 0 0 1 0 0 0 0 1 0 0 0 0 1 0 0 1 0 0 1 1 0 1 0 0 1 0 1 0 1 0 1 0 0\n",
      " 0 0 0 1 0 0 1 0 1 0 0 1 0 0 1 0 0 0 0 1 0 0 0 0 0 1 0 0 1 1 1 0 0 1 0 0 0\n",
      " 1 0 1 1 0 1]\n"
     ]
    }
   ],
   "source": [
    "# printing\n",
    "print(\"X_train\",X_train)\n",
    "print(\"y_train\",y_train)\n",
    "print(\"X_test\",X_test)\n",
    "print(\"y_test\",y_test)"
   ]
  },
  {
   "cell_type": "code",
   "execution_count": 24,
   "metadata": {},
   "outputs": [
    {
     "data": {
      "text/plain": [
       "KNeighborsClassifier(metric='euclidean')"
      ]
     },
     "execution_count": 24,
     "metadata": {},
     "output_type": "execute_result"
    }
   ],
   "source": [
    "#Now we have to create and train the K Nearest Neighbor model with the training set\n",
    "from sklearn.neighbors import KNeighborsClassifier\n",
    "classify=KNeighborsClassifier(n_neighbors=5 ,metric='euclidean',p=2)# here we used k=5,to avoid ouliers\n",
    "classify.fit(X_train,y_train)#model train"
   ]
  },
  {
   "cell_type": "code",
   "execution_count": 26,
   "metadata": {},
   "outputs": [
    {
     "name": "stdout",
     "output_type": "stream",
     "text": [
      "y_test [0 1 0 1 0 0 1 0 0 0 0 1 0 0 0 0 1 0 0 1 0 0 1 1 0 1 0 0 1 0 1 0 1 0 1 0 0\n",
      " 0 0 0 1 0 0 1 0 1 0 0 1 0 0 1 0 0 0 0 1 0 0 0 0 0 1 0 0 1 1 1 0 0 1 0 0 0\n",
      " 1 0 1 1 0 1]\n",
      "y_pred [1 1 0 1 0 0 1 0 0 0 0 1 0 0 0 1 1 0 0 1 0 0 1 1 0 1 0 0 1 0 1 0 1 0 1 0 0\n",
      " 0 0 0 1 0 0 1 0 1 0 0 1 0 0 1 0 0 0 0 1 1 0 0 0 0 1 0 0 1 0 1 0 1 1 0 0 0\n",
      " 1 0 1 1 0 0]\n"
     ]
    }
   ],
   "source": [
    "#Our Model is created, now we have to predict the output for the test set\n",
    "y_pred = classify.predict(X_test)# now testing on test data to get class of test data\n",
    "# comparing true and predicted value\n",
    "print(\"y_test\",y_test)\n",
    "print(\"y_pred\",y_pred)\n"
   ]
  },
  {
   "cell_type": "code",
   "execution_count": 27,
   "metadata": {},
   "outputs": [
    {
     "name": "stdout",
     "output_type": "stream",
     "text": [
      "confusion matrix :  [[48  4]\n",
      " [ 2 26]]\n",
      "accuracy score :  0.925\n"
     ]
    }
   ],
   "source": [
    "#We can evaluate our model using the confusion matrix\n",
    "#and accuracy score by comparing the predicted and actual test values\n",
    "from sklearn.metrics import confusion_matrix,accuracy_score\n",
    "cm = confusion_matrix(y_test, y_pred)\n",
    "ac = accuracy_score(y_test,y_pred)\n",
    "print(\"confusion matrix : \",cm)\n",
    "print(\"accuracy score : \",ac)"
   ]
  },
  {
   "cell_type": "markdown",
   "metadata": {},
   "source": [
    "our accuracy is :  0.925 meaning 92.5% so our model works well"
   ]
  },
  {
   "cell_type": "code",
   "execution_count": 32,
   "metadata": {},
   "outputs": [
    {
     "name": "stdout",
     "output_type": "stream",
     "text": [
      "report:               precision    recall  f1-score   support\n",
      "\n",
      "           0       0.96      0.92      0.94        52\n",
      "           1       0.87      0.93      0.90        28\n",
      "\n",
      "    accuracy                           0.93        80\n",
      "   macro avg       0.91      0.93      0.92        80\n",
      "weighted avg       0.93      0.93      0.93        80\n",
      "\n"
     ]
    }
   ],
   "source": [
    "# now generating final classification report\n",
    "from sklearn.metrics import classification_report\n",
    "c_report=classification_report(y_test,y_pred)\n",
    "print(\"report:\",c_report)"
   ]
  },
  {
   "cell_type": "code",
   "execution_count": 36,
   "metadata": {},
   "outputs": [
    {
     "name": "stdout",
     "output_type": "stream",
     "text": [
      "error :  0.2958039891549808\n"
     ]
    }
   ],
   "source": [
    "# for error rate use mse and rmse\n",
    "#you can evaluate the prediction error on the training data\n",
    "from sklearn.metrics import mean_squared_error\n",
    "from math import sqrt\n",
    "train_preds = classify.predict(X_train)\n",
    "mse = mean_squared_error(y_train, train_preds)\n",
    "rmse = sqrt(mse)\n",
    "print(\"error : \",rmse)\n"
   ]
  },
  {
   "cell_type": "markdown",
   "metadata": {},
   "source": [
    "### now we do cross validation for our classification"
   ]
  },
  {
   "cell_type": "code",
   "execution_count": 4,
   "metadata": {},
   "outputs": [
    {
     "ename": "NameError",
     "evalue": "name 'KNeighborsClassifier' is not defined",
     "output_type": "error",
     "traceback": [
      "\u001b[1;31m---------------------------------------------------------------------------\u001b[0m",
      "\u001b[1;31mNameError\u001b[0m                                 Traceback (most recent call last)",
      "\u001b[1;32m<ipython-input-4-5524cb532165>\u001b[0m in \u001b[0;36m<module>\u001b[1;34m\u001b[0m\n\u001b[0;32m      2\u001b[0m \u001b[1;32mfrom\u001b[0m \u001b[0msklearn\u001b[0m\u001b[1;33m.\u001b[0m\u001b[0mmodel_selection\u001b[0m \u001b[1;32mimport\u001b[0m \u001b[0mcross_val_score\u001b[0m\u001b[1;33m\u001b[0m\u001b[1;33m\u001b[0m\u001b[0m\n\u001b[0;32m      3\u001b[0m \u001b[1;31m# use the same model as before\u001b[0m\u001b[1;33m\u001b[0m\u001b[1;33m\u001b[0m\u001b[1;33m\u001b[0m\u001b[0m\n\u001b[1;32m----> 4\u001b[1;33m \u001b[0mclassify\u001b[0m \u001b[1;33m=\u001b[0m \u001b[0mKNeighborsClassifier\u001b[0m\u001b[1;33m(\u001b[0m\u001b[0mn_neighbors\u001b[0m \u001b[1;33m=\u001b[0m \u001b[1;36m5\u001b[0m\u001b[1;33m)\u001b[0m\u001b[1;33m\u001b[0m\u001b[1;33m\u001b[0m\u001b[0m\n\u001b[0m\u001b[0;32m      5\u001b[0m \u001b[1;31m# X,y will automatically devided by 5 folder, the scoring I will still use the accuracy\u001b[0m\u001b[1;33m\u001b[0m\u001b[1;33m\u001b[0m\u001b[1;33m\u001b[0m\u001b[0m\n\u001b[0;32m      6\u001b[0m \u001b[0mscores\u001b[0m \u001b[1;33m=\u001b[0m \u001b[0mcross_val_score\u001b[0m\u001b[1;33m(\u001b[0m\u001b[0mclassify\u001b[0m\u001b[1;33m,\u001b[0m \u001b[0mX\u001b[0m\u001b[1;33m,\u001b[0m \u001b[0my\u001b[0m\u001b[1;33m,\u001b[0m \u001b[0mcv\u001b[0m\u001b[1;33m=\u001b[0m\u001b[1;36m5\u001b[0m\u001b[1;33m,\u001b[0m \u001b[0mscoring\u001b[0m\u001b[1;33m=\u001b[0m\u001b[1;34m'accuracy'\u001b[0m\u001b[1;33m)\u001b[0m\u001b[1;33m\u001b[0m\u001b[1;33m\u001b[0m\u001b[0m\n",
      "\u001b[1;31mNameError\u001b[0m: name 'KNeighborsClassifier' is not defined"
     ]
    }
   ],
   "source": [
    "# import k-folder\n",
    "from sklearn.model_selection import cross_val_score\n",
    "# use the same model as before\n",
    "classify = KNeighborsClassifier(n_neighbors = 5)\n",
    "# X,y will automatically devided by 5 folder, the scoring I will still use the accuracy\n",
    "scores = cross_val_score(classify, X, y, cv=5, scoring='accuracy')\n",
    "# print all 5 times scores \n",
    "print(scores)\n",
    "# ye sab chal raha tha agar starting se shuru karunga tau sahi hojayga\n",
    "# check niave bayes\n"
   ]
  },
  {
   "cell_type": "code",
   "execution_count": 5,
   "metadata": {},
   "outputs": [
    {
     "ename": "NameError",
     "evalue": "name 'scores' is not defined",
     "output_type": "error",
     "traceback": [
      "\u001b[1;31m---------------------------------------------------------------------------\u001b[0m",
      "\u001b[1;31mNameError\u001b[0m                                 Traceback (most recent call last)",
      "\u001b[1;32m<ipython-input-5-dba8c1cfd6dd>\u001b[0m in \u001b[0;36m<module>\u001b[1;34m\u001b[0m\n\u001b[0;32m      1\u001b[0m \u001b[1;31m# then I will do the average about these five scores to get more accuracy score.\u001b[0m\u001b[1;33m\u001b[0m\u001b[1;33m\u001b[0m\u001b[1;33m\u001b[0m\u001b[0m\n\u001b[1;32m----> 2\u001b[1;33m \u001b[0mprint\u001b[0m\u001b[1;33m(\u001b[0m\u001b[0mscores\u001b[0m\u001b[1;33m.\u001b[0m\u001b[0mmean\u001b[0m\u001b[1;33m(\u001b[0m\u001b[1;33m)\u001b[0m\u001b[1;33m)\u001b[0m\u001b[1;33m\u001b[0m\u001b[1;33m\u001b[0m\u001b[0m\n\u001b[0m",
      "\u001b[1;31mNameError\u001b[0m: name 'scores' is not defined"
     ]
    }
   ],
   "source": [
    "# then I will do the average about these five scores to get more accuracy score.\n",
    "# ye sab chal raha tha agar starting se shuru karunga tau sahi hojayga\n",
    "# check naive bayes\n",
    "print(scores.mean())\n",
    "# 0.76817"
   ]
  },
  {
   "cell_type": "markdown",
   "metadata": {},
   "source": [
    "##### we could choose differenct neighbors to see which K is the best K."
   ]
  },
  {
   "cell_type": "code",
   "execution_count": 43,
   "metadata": {},
   "outputs": [
    {
     "data": {
      "image/png": "[encoded data removed]",
      "text/plain": [
       "<Figure size 432x288 with 1 Axes>"
      ]
     },
     "metadata": {
      "needs_background": "light"
     },
     "output_type": "display_data"
    }
   ],
   "source": [
    "from matplotlib import pyplot as plt\n",
    "%matplotlib inline\n",
    "# choose k between 1 to 31\n",
    "k_range = range(1, 31)\n",
    "k_scores = []\n",
    "# use iteration to caclulator different k in models, then return the average accuracy based on the cross validation\n",
    "for k in k_range:\n",
    "    classify = KNeighborsClassifier(n_neighbors=k)\n",
    "    scores = cross_val_score(classify, X, y, cv=5, scoring='accuracy')\n",
    "    k_scores.append(scores.mean())\n",
    "# plot to see clearly\n",
    "plt.plot(k_range, k_scores)\n",
    "plt.xlabel('Value of K for KNN')\n",
    "plt.ylabel('Cross-Validated Accuracy')\n",
    "plt.show()"
   ]
  },
  {
   "cell_type": "markdown",
   "metadata": {},
   "source": [
    "now for our above model we do some fun and maths"
   ]
  },
  {
   "cell_type": "markdown",
   "metadata": {},
   "source": [
    "first we will find accuracy for for value of k(n_neighbors) 1 to 10"
   ]
  },
  {
   "cell_type": "code",
   "execution_count": 44,
   "metadata": {},
   "outputs": [
    {
     "name": "stdout",
     "output_type": "stream",
     "text": [
      "Accuracy: 0.875 at k= 1\n",
      "Accuracy: 0.8375 at k= 2\n",
      "Accuracy: 0.9 at k= 3\n",
      "Accuracy: 0.9125 at k= 4\n",
      "Accuracy: 0.925 at k= 5\n",
      "Accuracy: 0.925 at k= 6\n",
      "Accuracy: 0.925 at k= 7\n",
      "Accuracy: 0.9375 at k= 8\n",
      "Accuracy: 0.9375 at k= 9\n",
      "Accuracy: 0.9375 at k= 10\n"
     ]
    }
   ],
   "source": [
    "all_accuracy=[]\n",
    "best_accuracy=0\n",
    "\n",
    "for i in range(1,11):\n",
    "    classify=KNeighborsClassifier(n_neighbors=i)\n",
    "    classify.fit(X_train, y_train)\n",
    "    y_pred=classify.predict(X_test)\n",
    "    accuracy=accuracy_score(y_test, y_pred)\n",
    "    all_accuracy.append(accuracy)\n",
    "    if(best_accuracy<accuracy):\n",
    "        best_accuracy=accuracy\n",
    "    print(\"Accuracy: \"+str(accuracy)+\" at k= \"+str(i))"
   ]
  },
  {
   "cell_type": "markdown",
   "metadata": {},
   "source": [
    "highest accuracy is : "
   ]
  },
  {
   "cell_type": "code",
   "execution_count": 45,
   "metadata": {},
   "outputs": [
    {
     "name": "stdout",
     "output_type": "stream",
     "text": [
      "Best Accuracy: 0.9375 at k= 8\n",
      "Best Accuracy: 0.9375 at k= 9\n",
      "Best Accuracy: 0.9375 at k= 10\n"
     ]
    }
   ],
   "source": [
    "for i in range(1,11):\n",
    "    if all_accuracy[i-1]==best_accuracy:\n",
    "        print(\"Best Accuracy: \"+str(all_accuracy[i-1]) +\" at k= \"+ str(i))"
   ]
  },
  {
   "cell_type": "markdown",
   "metadata": {},
   "source": [
    "now we find accuracy for 1 to 10 seed values (random_state) and print highest"
   ]
  },
  {
   "cell_type": "code",
   "execution_count": 46,
   "metadata": {},
   "outputs": [
    {
     "name": "stdout",
     "output_type": "stream",
     "text": [
      "Accuracy: 0.9375 at seed= 1\n",
      "Accuracy: 0.875 at seed= 2\n",
      "Accuracy: 0.9375 at seed= 3\n",
      "Accuracy: 1.0 at seed= 4\n",
      "Accuracy: 0.9375 at seed= 5\n",
      "Accuracy: 0.8125 at seed= 6\n",
      "Accuracy: 0.875 at seed= 7\n",
      "Accuracy: 0.9375 at seed= 8\n",
      "Accuracy: 0.8125 at seed= 9\n",
      "Accuracy: 0.8125 at seed= 10\n"
     ]
    }
   ],
   "source": [
    "all_accuracy=[]\n",
    "best_accuracy=0\n",
    "t_size = 0.20 \n",
    "for i in range(1,11):\n",
    "    X_train2, X_test2, y_train2, y_test2 = train_test_split(X_test, y_test, test_size=t_size,random_state=i)\n",
    "    classify2=KNeighborsClassifier(n_neighbors=5)\n",
    "    classify2.fit(X_train2, y_train2)\n",
    "    y_pred=classify2.predict(X_test2)\n",
    "    accuracy=accuracy_score(y_test2, y_pred)\n",
    "    all_accuracy.append(accuracy)\n",
    "    if(best_accuracy<accuracy):\n",
    "        best_accuracy=accuracy\n",
    "    print(\"Accuracy: \"+str(accuracy)+\" at seed= \"+str(i))"
   ]
  },
  {
   "cell_type": "markdown",
   "metadata": {},
   "source": [
    "of which best is : "
   ]
  },
  {
   "cell_type": "code",
   "execution_count": 47,
   "metadata": {},
   "outputs": [
    {
     "name": "stdout",
     "output_type": "stream",
     "text": [
      "Best Accuracy: 1.0 at seed= 4\n"
     ]
    }
   ],
   "source": [
    "for i in range(1,11):\n",
    "    if all_accuracy[i-1]==best_accuracy:\n",
    "        print(\"Best Accuracy: \"+str(all_accuracy[i-1]) +\" at seed= \"+ str(i))"
   ]
  },
  {
   "cell_type": "code",
   "execution_count": null,
   "metadata": {},
   "outputs": [],
   "source": []
  }
 ],
 "metadata": {
  "kernelspec": {
   "display_name": "Python 3",
   "language": "python",
   "name": "python3"
  },
  "language_info": {
   "codemirror_mode": {
    "name": "ipython",
    "version": 3
   },
   "file_extension": ".py",
   "mimetype": "text/x-python",
   "name": "python",
   "nbconvert_exporter": "python",
   "pygments_lexer": "ipython3",
   "version": "3.8.3"
  }
 },
 "nbformat": 4,
 "nbformat_minor": 4
}
