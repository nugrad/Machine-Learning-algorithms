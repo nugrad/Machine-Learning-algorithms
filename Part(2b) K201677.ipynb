{
 "cells": [
  {
   "cell_type": "markdown",
   "metadata": {},
   "source": [
    "## Part(2b) K201677"
   ]
  },
  {
   "cell_type": "markdown",
   "metadata": {},
   "source": [
    "Write a Python program to implement a Content-based Recommender System that\n",
    "takes a movie name as input and recommends top-3 movies to the user. Use genres as features\n",
    "and the provided ratings for vectorization of all profiles"
   ]
  },
  {
   "cell_type": "code",
   "execution_count": 7,
   "metadata": {},
   "outputs": [
    {
     "name": "stdout",
     "output_type": "stream",
     "text": [
      "Top-3 recommended movies :\n",
      " Movie Name and Year : The Good Dinosaur (2015)\n",
      " Movie Name and Year : Antz (1998)\n",
      " Movie Name and Year : Tale of Despereaux, The (2008)\n"
     ]
    }
   ],
   "source": [
    "import pandas as pd\n",
    "from sklearn.feature_extraction.text import CountVectorizer\n",
    "from sklearn.metrics.pairwise import cosine_similarity\n",
    "\n",
    "movies = pd.read_csv('movies.csv')\n",
    "ratings = pd.read_csv('ratings.csv')\n",
    "\n",
    "merged_data = pd.merge(ratings, movies, on='movieId')\n",
    "\n",
    "pivot_table = pd.pivot_table(merged_data, values='rating', index='title', columns='userId').fillna(0)\n",
    "\n",
    "vectorizer = CountVectorizer(token_pattern=r\"(?u)\\b\\w+\\b\", lowercase=False)\n",
    "genres_matrix = vectorizer.fit_transform(movies['genres'])\n",
    "\n",
    "genres_similarity = cosine_similarity(genres_matrix)\n",
    "\n",
    "def content_based_recommender(movie_name):\n",
    "    movie_index = movies.loc[movies['title'] == movie_name].index[0]\n",
    "\n",
    "    movie_similarities = genres_similarity[movie_index]\n",
    "    top_movies_indices = movie_similarities.argsort()[-4:-1]\n",
    "    top_movies = movies.loc[top_movies_indices, 'title']\n",
    "\n",
    "    top_movies = top_movies[top_movies != movie_name]\n",
    "\n",
    "    return top_movies\n",
    "input_movie = 'Toy Story (1995)'\n",
    "recommended_movies = content_based_recommender(input_movie)\n",
    "print(f'Top-3 recommended movies :')\n",
    "for movie in recommended_movies:\n",
    "    print(\" Movie Name and Year :\",movie)\n"
   ]
  },
  {
   "cell_type": "code",
   "execution_count": null,
   "metadata": {},
   "outputs": [],
   "source": []
  }
 ],
 "metadata": {
  "kernelspec": {
   "display_name": "Python 3",
   "language": "python",
   "name": "python3"
  },
  "language_info": {
   "codemirror_mode": {
    "name": "ipython",
    "version": 3
   },
   "file_extension": ".py",
   "mimetype": "text/x-python",
   "name": "python",
   "nbconvert_exporter": "python",
   "pygments_lexer": "ipython3",
   "version": "3.8.3"
  }
 },
 "nbformat": 4,
 "nbformat_minor": 4
}
